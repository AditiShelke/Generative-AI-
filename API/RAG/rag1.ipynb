{
 "cells": [
  {
   "cell_type": "code",
   "execution_count": null,
   "id": "1511ec1f",
   "metadata": {},
   "outputs": [],
   "source": [
    "#data ingestion script\n",
    "import sys\n",
    "import os       \n",
    "from langchain_community.document_loaders import TextLoader\n"
   ]
  }
 ],
 "metadata": {
  "language_info": {
   "name": "python"
  }
 },
 "nbformat": 4,
 "nbformat_minor": 5
}
