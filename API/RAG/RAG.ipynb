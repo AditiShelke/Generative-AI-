{
 "cells": [
  {
   "cell_type": "code",
   "execution_count": null,
   "id": "ce36ca25",
   "metadata": {},
   "outputs": [],
   "source": [
    "#Simple experimentation trial of RAG \n",
    "# What im trying to do is to use the Chatbot OpenAI API to create a RAG system that can answer questions based on a set of documents.\n"
   ]
  },
  {
   "cell_type": "code",
   "execution_count": 2,
   "id": "9e681c7f",
   "metadata": {},
   "outputs": [
    {
     "name": "stdout",
     "output_type": "stream",
     "text": [
      "/Users/aditishelke/Downloads/github project 1/venv/bin/python\n"
     ]
    }
   ],
   "source": [
    "import sys\n",
    "print(sys.executable)\n"
   ]
  },
  {
   "cell_type": "code",
   "execution_count": 3,
   "id": "1790dbe1",
   "metadata": {},
   "outputs": [
    {
     "data": {
      "text/plain": [
       "[Document(metadata={'source': 'speech.txt'}, page_content='Power Pivot and the Data Model\\n\\nPower Pivot operates within a Data Model, where relationships are established and managed. This approach permits the creation of a PivotTable from multiple sources without physically merging them.\\n\\nMaking use of the DAX formula language, Power Pivot handles intricate calculations on the data model, spanning time intelligence, rankings, percentiles, and more.\\n\\nA major advantage lies in Power Pivot’s ability to efficiently manage numerous data sources. It doesn’t necessitate storing a memory-intensive “Frankentable” and computes DAX measures as needed. However, mastering Power Pivot can prove challenging due to its steep learning curve, particularly when dealing with data sources not consolidated into a single table.\\n\\nOn the sales_pp worksheet of ch_06.xlsx, I have created a Data Model consisting of the three sales data sources and loaded the results to a PivotTable. Now I am able to analyze and calculate based across all related tables, as shown in Figure\\xa06-3.\\n\\n')]"
      ]
     },
     "execution_count": 3,
     "metadata": {},
     "output_type": "execute_result"
    }
   ],
   "source": [
    "## Data Ingestion \n",
    "# Read form files pdf, web or whatever \n",
    "from langchain_community.document_loaders import TextLoader\n",
    "\n",
    "loader = TextLoader(\"speech.txt\")\n",
    "text_documents = loader.load() #textdocument \n",
    "text_documents"
   ]
  },
  {
   "cell_type": "code",
   "execution_count": 4,
   "id": "ff17e261",
   "metadata": {},
   "outputs": [],
   "source": [
    "\n",
    "from dotenv import load_dotenv\n",
    "import os\n",
    "\n",
    "load_dotenv()  # Loads from .env automatically\n",
    "os.environ['OPENAI_API_KEY'] = os.getenv(\"OPENAI_API_KEY\")\n"
   ]
  },
  {
   "cell_type": "code",
   "execution_count": 5,
   "id": "5386afbd",
   "metadata": {},
   "outputs": [
    {
     "name": "stderr",
     "output_type": "stream",
     "text": [
      "USER_AGENT environment variable not set, consider setting it to identify your requests.\n"
     ]
    }
   ],
   "source": [
    "# Data ingestion \n",
    "# Read from web based \n",
    "from langchain_community.document_loaders import WebBaseLoader\n",
    "import bs4\n",
    "\n",
    "loader=WebBaseLoader(web_paths=(\"https://lilianweng.github.io/posts/2024-04-12-diffusion-video/\",),\n",
    "                     bs_kwargs=dict(parse_only=bs4.SoupStrainer(\n",
    "                         class_=(\"post-title\",\"post-content\",\"post-header\")\n",
    "\n",
    "                     )),)\n",
    "\n",
    "text_documents=loader.load()\n",
    "\n"
   ]
  },
  {
   "cell_type": "code",
   "execution_count": 6,
   "id": "b46efbc3",
   "metadata": {},
   "outputs": [
    {
     "data": {
      "text/plain": [
       "[Document(metadata={'source': 'https://lilianweng.github.io/posts/2024-04-12-diffusion-video/'}, page_content='\\n\\n      Diffusion Models for Video Generation\\n    \\nDate: April 12, 2024  |  Estimated Reading Time: 20 min  |  Author: Lilian Weng\\n\\n\\nDiffusion models have demonstrated strong results on image synthesis in past years. Now the research community has started working on a harder task—using it for video generation. The task itself is a superset of the image case, since an image is a video of 1 frame, and it is much more challenging because:\\n\\nIt has extra requirements on temporal consistency across frames in time, which naturally demands more world knowledge to be encoded into the model.\\nIn comparison to text or images, it is more difficult to collect large amounts of high-quality, high-dimensional video data, let along text-video pairs.\\n\\n\\n\\n🥑 Required Pre-read: Please make sure you have read the previous blog on “What are Diffusion Models?” for image generation before continue here.\\n\\n\\nVideo Generation Modeling from Scratch#\\nFirst let’s review approaches for designing and training diffusion video models from scratch, meaning that we do not rely on pre-trained image generators.\\nParameterization & Sampling Basics#\\nHere we use a slightly different variable definition from the previous post, but the math stays the same. Let $\\\\mathbf{x} \\\\sim q_\\\\text{real}$ be a data point sampled from the real data distribution. Now we are adding Gaussian noise in small amount in time, creating a sequence of noisy variations of $\\\\mathbf{x}$, denoted as $\\\\{\\\\mathbf{z}_t \\\\mid t =1 \\\\dots, T\\\\}$, with increasing amount of noise as $t$ increases and the last $q(\\\\mathbf{z}_T) \\\\sim \\\\mathcal{N}(\\\\mathbf{0}, \\\\mathbf{I})$. The noise-adding forward process is a Gaussian process. Let $\\\\alpha_t, \\\\sigma_t$ define a differentiable noise schedule of the Gaussian process:\\n\\n$$\\nq(\\\\mathbf{z}_t \\\\vert \\\\mathbf{x}) = \\\\mathcal{N}(\\\\mathbf{z}_t; \\\\alpha_t \\\\mathbf{x}, \\\\sigma^2_t\\\\mathbf{I})\\n$$\\n\\nTo represent $q(\\\\mathbf{z}_t \\\\vert \\\\mathbf{z}_s)$ for $0 \\\\leq s < t \\\\leq T$, we have:\\n\\n$$\\n\\\\begin{aligned}\\n\\\\mathbf{z}_t &= \\\\alpha_t \\\\mathbf{x} + \\\\sigma_t\\\\boldsymbol{\\\\epsilon}_t \\\\\\\\\\n\\\\mathbf{z}_s &= \\\\alpha_s \\\\mathbf{x} + \\\\sigma_s\\\\boldsymbol{\\\\epsilon}_s \\\\\\\\\\n\\\\mathbf{z}_t &= \\\\alpha_t \\\\Big(\\\\frac{\\\\mathbf{z}_s - \\\\sigma_s\\\\boldsymbol{\\\\epsilon}_s}{\\\\alpha_s}\\\\Big) + \\\\sigma_t\\\\boldsymbol{\\\\epsilon}_t \\\\\\\\\\n\\\\mathbf{z}_t &= \\\\frac{\\\\alpha_t}{\\\\alpha_s}\\\\mathbf{z}_s + \\\\sigma_t\\\\boldsymbol{\\\\epsilon}_t - \\\\frac{\\\\alpha_t\\\\sigma_s}{\\\\alpha_s} \\\\boldsymbol{\\\\epsilon}_s \\\\\\\\\\n\\\\text{Thus }q(\\\\mathbf{z}_t \\\\vert \\\\mathbf{z}_s) &= \\\\mathcal{N}\\\\Big(\\\\mathbf{z}_t; \\\\frac{\\\\alpha_t}{\\\\alpha_s}\\\\mathbf{z}_s, \\\\big(1 - \\\\frac{\\\\alpha^2_t\\\\sigma^2_s}{\\\\sigma^2_t\\\\alpha^2_s}\\\\big)\\\\sigma^2_t \\\\mathbf{I}\\\\Big)\\n\\\\end{aligned}\\n$$\\n\\nLet the log signal-to-noise-ratio be $\\\\lambda_t = \\\\log[\\\\alpha^2_t / \\\\sigma^2_t]$, we can represent the DDIM (Song et al. 2020) update as:\\n\\n$$\\nq(\\\\mathbf{z}_t \\\\vert \\\\mathbf{z}_s) = \\\\mathcal{N}\\\\Big(\\\\mathbf{z}_t; \\\\frac{\\\\alpha_t}{\\\\alpha_s}\\\\mathbf{z}_s, \\\\sigma^2_{t\\\\vert s} \\\\mathbf{I}\\\\Big) \\\\quad\\n\\\\text{where }\\\\sigma^2_{t\\\\vert s} = (1 - e^{\\\\lambda_t - \\\\lambda_s})\\\\sigma^2_t\\n$$\\n\\nThere is a special $\\\\mathbf{v}$-prediction ($\\\\mathbf{v} = \\\\alpha_t \\\\boldsymbol{\\\\epsilon} - \\\\sigma_t \\\\mathbf{x}$) parameterization, proposed by Salimans & Ho (2022). It has been shown to be helpful for avoiding color shift in video generation compared to $\\\\boldsymbol{\\\\epsilon}$-parameterization.\\nThe $\\\\mathbf{v}$-parameterization is derived with a trick in the angular coordinate. First, we define $\\\\phi_t = \\\\arctan(\\\\sigma_t / \\\\alpha_t)$ and thus we have $\\\\alpha_\\\\phi = \\\\cos\\\\phi, \\\\sigma_t = \\\\sin\\\\phi, \\\\mathbf{z}_\\\\phi = \\\\cos\\\\phi \\\\mathbf{x} + \\\\sin\\\\phi\\\\boldsymbol{\\\\epsilon}$. The velocity of $\\\\mathbf{z}_\\\\phi$ can be written as:\\n\\n$$\\n\\\\mathbf{v}_\\\\phi = \\\\nabla_\\\\phi \\\\mathbf{z}_\\\\phi = \\\\frac{d\\\\cos\\\\phi}{d\\\\phi} \\\\mathbf{x} + \\\\frac{d\\\\sin\\\\phi}{d\\\\phi}\\\\boldsymbol{\\\\epsilon} = \\\\cos\\\\phi\\\\boldsymbol{\\\\epsilon} -\\\\sin\\\\phi\\\\mathbf{x}\\n$$\\n\\nThen we can infer,\\n\\n$$\\n\\\\begin{aligned}\\n\\\\sin\\\\phi\\\\mathbf{x} \\n&= \\\\cos\\\\phi\\\\boldsymbol{\\\\epsilon}  - \\\\mathbf{v}_\\\\phi \\\\\\\\\\n&= \\\\frac{\\\\cos\\\\phi}{\\\\sin\\\\phi}\\\\big(\\\\mathbf{z}_\\\\phi - \\\\cos\\\\phi\\\\mathbf{x}\\\\big) - \\\\mathbf{v}_\\\\phi \\\\\\\\\\n\\\\sin^2\\\\phi\\\\mathbf{x} \\n&= \\\\cos\\\\phi\\\\mathbf{z}_\\\\phi - \\\\cos^2\\\\phi\\\\mathbf{x} - \\\\sin\\\\phi \\\\mathbf{v}_\\\\phi \\\\\\\\\\n\\\\mathbf{x} &= \\\\cos\\\\phi\\\\mathbf{z}_\\\\phi - \\\\sin\\\\phi\\\\mathbf{v}_\\\\phi \\\\\\\\\\n\\\\text{Similarly }\\n\\\\boldsymbol{\\\\epsilon} &= \\\\sin\\\\phi\\\\mathbf{z}_\\\\phi + \\\\cos\\\\phi \\\\mathbf{v}_\\\\phi\\n\\\\end{aligned}\\n$$\\n\\nThe DDIM update rule is updated accordingly,\\n\\n$$\\n\\\\begin{aligned}\\n\\\\mathbf{z}_{\\\\phi_s} \\n&= \\\\cos\\\\phi_s\\\\hat{\\\\mathbf{x}}_\\\\theta(\\\\mathbf{z}_{\\\\phi_t}) + \\\\sin\\\\phi_s\\\\hat{\\\\epsilon}_\\\\theta(\\\\mathbf{z}_{\\\\phi_t}) \\\\quad\\\\quad{\\\\small \\\\text{; }\\\\hat{\\\\mathbf{x}}_\\\\theta(.), \\\\hat{\\\\epsilon}_\\\\theta(.)\\\\text{ are two models to predict }\\\\mathbf{x}, \\\\boldsymbol{\\\\epsilon}\\\\text{ based on }\\\\mathbf{z}_{\\\\phi_t}}\\\\\\\\\\n&= \\\\cos\\\\phi_s \\\\big( \\\\cos\\\\phi_t \\\\mathbf{z}_{\\\\phi_t} - \\\\sin\\\\phi_t \\\\hat{\\\\mathbf{v}}_\\\\theta(\\\\mathbf{z}_{\\\\phi_t} ) \\\\big) +\\n\\\\sin\\\\phi_s \\\\big( \\\\sin\\\\phi_t \\\\mathbf{z}_{\\\\phi_t} + \\\\cos\\\\phi_t \\\\hat{\\\\mathbf{v}}_\\\\theta(\\\\mathbf{z}_{\\\\phi_t} ) \\\\big) \\\\\\\\\\n&= {\\\\color{red} \\\\big( \\\\cos\\\\phi_s\\\\cos\\\\phi_t + \\\\sin\\\\phi_s\\\\sin\\\\phi_t \\\\big)} \\\\mathbf{z}_{\\\\phi_t} + \\n{\\\\color{green} \\\\big( \\\\sin\\\\phi_s \\\\cos\\\\phi_t - \\\\cos\\\\phi_s \\\\sin\\\\phi_t \\\\big)} \\\\hat{\\\\mathbf{v}}_\\\\theta(\\\\mathbf{z}_{\\\\phi_t} ) \\\\\\\\\\n&= {\\\\color{red} cos(\\\\phi_s - \\\\phi_t)} \\\\mathbf{z}_{\\\\phi_t} +\\n{\\\\color{green} \\\\sin(\\\\phi_s - \\\\phi_t)} \\\\hat{\\\\mathbf{v}}_\\\\theta(\\\\mathbf{z}_{\\\\phi_t}) \\\\quad\\\\quad{\\\\small \\\\text{; trigonometric identity functions.}}\\n\\\\end{aligned}\\n$$\\n\\n\\n\\nVisualizing how the diffusion update step works in the angular coordinate, where DDIM evolves $\\\\mathbf{z}_{\\\\phi_s}$ by moving it along the $-\\\\hat{\\\\mathbf{v}}_{\\\\phi_t}$ direction. (Image source: Salimans & Ho, 2022)\\n\\nThe $\\\\mathbf{v}$-parameterization for the model is to predict $\\\\mathbf{v}_\\\\phi = \\\\cos\\\\phi\\\\boldsymbol{\\\\epsilon} -\\\\sin\\\\phi\\\\mathbf{x} = \\\\alpha_t\\\\boldsymbol{\\\\epsilon} - \\\\sigma_t\\\\mathbf{x}$.\\nIn the case of video generation, we need the diffusion model to run multiple steps of upsampling for extending video length or increasing the frame rate. This requires the capability of sampling a second video $\\\\mathbf{x}^b$ conditioned on the first $\\\\mathbf{x}^a$, $\\\\mathbf{x}^b \\\\sim p_\\\\theta(\\\\mathbf{x}^b \\\\vert \\\\mathbf{x}^a)$, where $\\\\mathbf{x}^b$ might be an autoregressive extension of $\\\\mathbf{x}^a$ or be the missing frames in-between for a video $\\\\mathbf{x}^a$ at a low frame rate.\\nThe sampling of $\\\\mathbf{x}_b$ needs to condition on $\\\\mathbf{x}_a$ besides its own corresponding noisy variable. Video Diffusion Models (VDM; Ho & Salimans, et al. 2022) proposed the reconstruction guidance method using an adjusted denoising model such that the sampling of $\\\\mathbf{x}^b$ can be properly conditioned on $\\\\mathbf{x}^a$:\\n\\n$$\\n\\\\begin{aligned}\\n\\\\mathbb{E}_q [\\\\mathbf{x}_b \\\\vert \\\\mathbf{z}_t, \\\\mathbf{x}^a] &= \\\\mathbb{E}_q [\\\\mathbf{x}^b \\\\vert \\\\mathbf{z}_t] + \\\\frac{\\\\sigma_t^2}{\\\\alpha_t} \\\\nabla_{\\\\mathbf{z}^b_t} \\\\log q(\\\\mathbf{x}^a \\\\vert \\\\mathbf{z}_t) \\\\\\\\\\nq(\\\\mathbf{x}^a \\\\vert \\\\mathbf{z}_t) &\\\\approx \\\\mathcal{N}\\\\big[\\\\hat{\\\\mathbf{x}}^a_\\\\theta (\\\\mathbf{z}_t), \\\\frac{\\\\sigma_t^2}{\\\\alpha_t^2}\\\\mathbf{I}\\\\big] & {\\\\small \\\\text{; the closed form is unknown.}}\\\\\\\\\\n\\\\tilde{\\\\mathbf{x}}^b_\\\\theta (\\\\mathbf{z}_t) &= \\\\hat{\\\\mathbf{x}}^b_\\\\theta (\\\\mathbf{z}_t) - \\\\frac{w_r \\\\alpha_t}{2} \\\\nabla_{\\\\mathbf{z}_t^b} \\\\| \\\\mathbf{x}^a - \\\\hat{\\\\mathbf{x}}^a_\\\\theta (\\\\mathbf{z}_t) \\\\|^2_2 & {\\\\small \\\\text{; an adjusted denoising model for }\\\\mathbf{x}^b}\\n\\\\end{aligned}\\n$$\\n\\nwhere $\\\\hat{\\\\mathbf{x}}^a_\\\\theta (\\\\mathbf{z}_t), \\\\hat{\\\\mathbf{x}}^b_\\\\theta (\\\\mathbf{z}_t)$ are reconstructions of $\\\\mathbf{x}^a, \\\\mathbf{x}^b$ provided by the denoising model. And $w_r$ is a weighting factor and a large one $w_r >1$ is found to improve sample quality. Note that it is also possible to simultaneously condition on low resolution videos to extend samples to be at the high resolution using the same reconstruction guidance method.\\nModel Architecture: 3D U-Net & DiT#\\nSimilar to text-to-image diffusion models, U-net and Transformer are still two common architecture choices. There are a series of diffusion video modeling papers from Google based on the U-net architecture and a recent Sora model from OpenAI leveraged the Transformer architecture.\\nVDM (Ho & Salimans, et al. 2022) adopts the standard diffusion model setup but with an altered architecture suitable for video modeling. It extends the 2D U-net to work for 3D data (Cicek et al. 2016), where each feature map represents a 4D tensor of frames x height x width x channels. This 3D U-net is factorized over space and time, meaning that each layer only operates on the space or time dimension, but not both:\\n\\nProcessing Space:\\n\\nEach old 2D convolution layer as in the 2D U-net is extended to be space-only 3D convolution; precisely, 3x3 convolutions become 1x3x3 convolutions.\\nEach spatial attention block remains as attention over space, where the first axis (frames) is treated as batch dimension.\\n\\n\\nProcessing Time:\\n\\nA temporal attention block is added after each spatial attention block. It performs attention over the first axis (frames) and treats spatial axes as the batch dimension. The relative position embedding is used for tracking the order of frames. The temporal attention block is important for the model to capture good temporal coherence.\\n\\n\\n\\n\\n\\nThe 3D U-net architecture. The noisy video $\\\\mathbf{z}_t$ , conditioning information $\\\\boldsymbol{c}$ and the log signal-to-noise ratio (log-SNR) $\\\\lambda_t$ are inputs to the network. The channel multipliers $M_1, \\\\dots, M_K$ represent the channel counts across layers. (Image source: Salimans & Ho, 2022)\\n\\nImagen Video (Ho, et al. 2022) is constructed on a cascade of diffusion models to enhance the video generation quality and upgrades to output 1280x768 videos at 24 fps. The Imagen Video architecture consists of the following components, counting 7 diffusion models in total.\\n\\nA frozen T5 text encoder to provide text embedding as the conditioning input.\\nA base video diffusion model.\\nA cascade of interleaved spatial and temporal super-resolution diffusion models, including 3 TSR (Temporal Super-Resolution) and 3 SSR (Spatial Super-Resolution) components.\\n\\n\\n\\nThe cascaded sampling pipeline in Imagen Video. In practice, the text embeddings are injected into all components, not just the base model. (Image source: Ho et al. 2022)\\n\\nThe base denoising models performs spatial operations over all the frames with shared parameters simultaneously and then the temporal layer mixes activations across frames to better capture temporal coherence, which is found to work better than frame-autoregressive approaches.\\n\\n\\nThe architecture of one space-time separable block in the Imagen Video diffusion model. (Image source: Ho et al. 2022)\\n\\nBoth SSR and TSR models condition on the upsampled inputs concatenated with noisy data $\\\\mathbf{z}_t$ channel-wise. SSR upsamples by bilinear resizing, while TSR upsamples by repeating the frames or filling in blank frames.\\nImagen Video also applies progressive distillation to speed up sampling and each distillation iteration can reduce the required sampling steps by half. Their experiments were able to distill all 7 video diffusion models down to just 8 sampling steps per model without any noticeable loss in perceptual quality.\\n\\nTo achieve better scaling efforts, Sora (Brooks et al. 2024) leverages DiT (Diffusion Transformer) architecture that operates on spacetime patches of video and image latent codes. Visual input is represented as a sequence of spacetime patches which act as Transformer input tokens.\\n\\n\\nSora is a diffusion transformer model.(Image source: Brooks et al. 2024)\\n\\nAdapting Image Models to Generate Videos#\\nAnother prominent approach for diffusion video modeling is to “inflate” a pre-trained image-to-text diffusion model by inserting temporal layers and then we can choose to only fine-tune new layers on video data, or avoid extra training at all. The prior knowledge of text-image pairs is inherited by the new model and thus it can help alleviate the requirement on text-video pair data.\\nFine-tuning on Video Data#\\nMake-A-Video (Singer et al. 2022) extends a pre-trained diffusion image model with a temporal dimension, consisting of three key components:\\n\\nA base text-to-image model trained on text-image pair data.\\nSpatiotemporal convolution and attention layers to extend the network to cover temporal dimension.\\nA frame interpolation network for high frame rate generation\\n\\n\\n\\nThe illustration of Make-A-Video pipeline.(Image source: Singer et al. 2022)\\n\\nThe final video inference scheme can be formulated as:\\n\\n$$\\n\\\\hat{\\\\mathbf{y}}_t = \\\\text{SR}_h \\\\circ \\\\text{SR}^t_l \\\\circ \\\\uparrow_F \\\\circ D^t \\\\circ P \\\\circ (\\\\hat{\\\\mathbf{x}}, \\\\text{CLIP}_\\\\text{text}(\\\\mathbf{x}))\\n$$\\n\\nwhere:\\n\\n$\\\\mathbf{x}$ is the input text.\\n$\\\\hat{\\\\mathbf{x}}$ is the BPE-encoded text.\\n$\\\\text{CLIP}_\\\\text{text}(.)$ is the CLIP text encoder, $\\\\mathbf{x}_e = \\\\text{CLIP}_\\\\text{text}(\\\\mathbf{x})$.\\n$P(.)$ is the prior, generating image embedding $\\\\mathbf{y}_e$ given text embedding $\\\\mathbf{x}_e$ and BPE encoded text $\\\\hat{\\\\mathbf{x}}$ : $\\\\mathbf{y}_e = P(\\\\mathbf{x}_e, \\\\hat{\\\\mathbf{x}})$. This part is trained on text-image pair data and not fine-tuned on video data.\\n$D^t(.)$ is the spatiotemporal decoder that generates a series of 16 frames, where each frame is a low-resolution 64x64 RGB image $\\\\hat{\\\\mathbf{y}}_l$.\\n$\\\\uparrow_F(.)$ is the frame interpolation network, increasing the effective frame rate by interpolating between generated frames. This is a fine-tuned model for the task of predicting masked frames for video upsampling.\\n$\\\\text{SR}_h(.), \\\\text{SR}^t_l(.)$ are the spatial and spatiotemporal super-resolution models, increasing the image resolution to 256x256 and 768x768, respectively.\\n$\\\\hat{\\\\mathbf{y}}_t$ is the final generated video.\\n\\nSpatiotemporal SR layers contain pseudo-3D convo layers and pseudo-3D attention layers:\\n\\nPseudo-3D convo layer : Each spatial 2D convo layer (initialized from the pre-training image model) is followed by a temporal 1D layer (initialized as the identity function). Conceptually, the convo 2D layer first generates multiple frames and then frames are reshaped to be a video clip.\\nPseudo-3D attention layer: Following each (pre-trained) spatial attention layer, a temporal attention layer is stacked and used to approximate a full spatiotemporal attention layer.\\n\\n\\n\\nHow pseudo-3D convolution (left) and attention (right) layers work.(Image source: Singer et al. 2022)\\n\\nThey can be represented as:\\n\\n$$\\n\\\\begin{aligned}\\n\\\\text{Conv}_\\\\text{P3D} &= \\\\text{Conv}_\\\\text{1D}(\\\\text{Conv}_\\\\text{2D}(\\\\mathbf{h}) \\\\circ T) \\\\circ T \\\\\\\\\\n\\\\text{Attn}_\\\\text{P3D} &= \\\\text{flatten}^{-1}(\\\\text{Attn}_\\\\text{1D}(\\\\text{Attn}_\\\\text{2D}(\\\\text{flatten}(\\\\mathbf{h})) \\\\circ T) \\\\circ T)\\n\\\\end{aligned}\\n$$\\n\\nwhere an input tensor $\\\\mathbf{h} \\\\in \\\\mathbb{R}^{B\\\\times C \\\\times F \\\\times H \\\\times W}$  (corresponding to batch size, channels, frames, height and weight); and $\\\\circ T$ swaps between temporal and spatial dimensions; $\\\\text{flatten}(.)$ is a matrix operator to convert $\\\\mathbf{h}$ to be $\\\\mathbf{h}’ \\\\in \\\\mathbb{R}^{B \\\\times C \\\\times F \\\\times HW}$ and $\\\\text{flatten}^{-1}(.)$ reverses that process.\\nDuring training, different components of Make-A-Video pipeline are trained independently.\\n\\nDecoder $D^t$, prior $P$ and two super-resolution components $\\\\text{SR}_h, \\\\text{SR}^t_l$ are first trained on images alone, without paired text.\\nNext the new temporal layers are added, initialized as identity function, and then fine-tuned on unlabeled video data.\\n\\nTune-A-Video (Wu et al. 2023) inflates a pre-trained image diffusion model to enable one-shot video tuning: Given a video containing $m$ frames, $\\\\mathcal{V} = \\\\{v_i \\\\mid i = 1, \\\\dots, m\\\\}$, paired with a descriptive prompt $\\\\tau$, the task is to generate a new video $\\\\mathcal{V}^*$ based on a slightly edited & related text prompt $\\\\tau^*$. For example, $\\\\tau$ = \"A man is skiing\" can be extended to $\\\\tau^*$=\"Spiderman is skiing on the beach\". Tune-A-Video is meant to be used for object editing, background change, and style transfer.\\nBesides inflating the 2D convo layer, the U-Net architecture of Tune-A-Video incorporates the ST-Attention (spatiotemporal attention) block to capture temporal consistency by querying relevant positions in previous frames. Given latent features of frame $v_i$, previous frames $v_{i-1}$ and the first frame $v_1$ are projected to query $\\\\mathbf{Q}$, key $\\\\mathbf{K}$ and value $\\\\mathbf{V}$, the ST-attention is defined as:\\n\\n$$\\n\\\\begin{aligned}\\n&\\\\mathbf{Q} = \\\\mathbf{W}^Q \\\\mathbf{z}_{v_i}, \\\\quad \\\\mathbf{K} = \\\\mathbf{W}^K [\\\\mathbf{z}_{v_1}, \\\\mathbf{z}_{v_{i-1}}], \\\\quad \\\\mathbf{V} = \\\\mathbf{W}^V [\\\\mathbf{z}_{v_1}, \\\\mathbf{z}_{v_{i-1}}] \\\\\\\\\\n&\\\\mathbf{O} = \\\\text{softmax}\\\\Big(\\\\frac{\\\\mathbf{Q} \\\\mathbf{K}^\\\\top}{\\\\sqrt{d}}\\\\Big) \\\\cdot \\\\mathbf{V}\\n\\\\end{aligned}\\n$$\\n\\n\\n\\nThe Tune-A-Video architecture overview. It first runs a light-weighted fine-tuning stage on a single video before the sampling stage. Note that the entire temporal self-attention (T-Attn) layers get fine-tuned because they are newly added, but only query projections in ST-Attn and Cross-Attn are updated during fine-tuning to preserve prior text-to-image knowledge. ST-Attn improves spatial-temporal consistency, Cross-Attn refines text-video alignment. (Image source: Wu et al. 2023)\\n\\nGen-1 model  (Esser et al. 2023) by Runway targets the task of editing a given video according to text inputs. It decomposes the consideration of structure and content of a video $p(\\\\mathbf{x} \\\\mid s, c)$ for generation conditioning. However, to do a clear decomposition of these two aspects is not easy.\\n\\nContent $c$ refers to appearance and semantics of the video, that is sampled from the text for conditional editing. CLIP embedding of the frame is a good representation of content, and stays largely orthogonal to structure traits.\\nStructure $s$ depicts greometry and dynamics, including shapes, locations, temporal changes of objects, and $s$ is sampled from the input video. Depth estimation or other task-specific side information (e.g. human body pose or face landmarks for human video synthesis) can be used.\\n\\nThe architecture changes in Gen-1 are quite standard, i.e. adding 1D temporal convo layer after each 2D spatial convo layer in its residual blocks and adding 1D temporal attention block after each 2D spatial attention block in its attention blocks. During training, the structure variable $s$ is concatenated with the diffusion latent variable $\\\\mathbf{z}$, where the content variable $c$ is provided in the cross-attention layer. At inference time, the clip embedding is converted via a prior to convert CLIP text embedding to be CLIP image embedding.\\n\\n\\nThe overview of the Gen-1 model training pipeline.(Image source: Esser et al. 2023)\\n\\nVideo LDM (Blattmann et al. 2023) trains a LDM (Latent diffusion models) image generator first. Then the model is fine-tuned to produce videos with a temporal dimension added. The fine-tuning only applies to these newly added temporal layers on encoded image sequences. The temporal layers $\\\\{l^i_\\\\phi \\\\mid i = \\\\ 1, \\\\dots, L\\\\}$ in the Video LDM (See Fig. 10) are interleaved with existing spatial layers $l^i_\\\\theta$ which stays frozen during fine-tuning. That’s being said, we only fine-tune the new parameters $\\\\phi$ but not the pre-trained image backbone model parameters $\\\\theta$. The pipeline of Video LDM first generates key frames at low fps and then processes through 2 steps of latent frame interpolations to increase fps.\\nThe input sequence of length $T$ is interpreted as a batch of images (i.e. $B \\\\cdot T$) for the base image model $\\\\theta$ and then gets reshaped into video format for $l^i_\\\\phi$ temporal layers. There is a skip connection leads to a combination of temporal layer output $\\\\mathbf{z}’$ and the spatial output $\\\\mathbf{z}$ via a learned merging parameter $\\\\alpha$. There are two types of temporal mixing layers implemented in practice: (1) temporal attention and (2) residual blocks based on 3D convolutions.\\n\\n\\nA pre-training LDM for image synthesis is extended to be a video generator. $B, T, C, H, W$ are batch size, sequence length, channels, height and width, respectively. $\\\\mathbf{c}_S$ is an optional conditioning/context frame. (Image source: Blattmann et al. 2023)\\n\\nHowever, there is a remaining issue with LDM’s pretrainined autoencoder which only sees images never videos. Naively using that for video generation can cause flickering artifacts without good temporal coherence. So Video LDM adds additional temporal layers into the decoder and fine-tuned on video data with a patch-wise temporal discriminator built from 3D convolutions, while the encoder remains unchanged so that we still can reuse the pretrained LDM. During temporal decoder fine-tuning, the frozen encoder processes each frame in the video independently, and enforce temporally coherent reconstructions across frames with a video-aware discriminator.\\n\\n\\nThe training pipeline of autoencoder in video latent diffusion models. The decoder is fine-tuned to have temporal coherency with a new across-frame discriminator while the encoder stays frozen. (Image source: Blattmann et al. 2023)\\n\\nSimilar to Video LDM, the architecture design of Stable Video Diffusion (SVD; Blattmann et al. 2023) is also based on LDM with temporal layers inserted after every spatial convolution and attention layer, but SVD fine-tunes the entire model. There are three stages for training video LDMs:\\n\\nText-to-image pretraining is important and helps improve both quality and prompt following.\\nVideo pretraining is beneficial to be separated and should ideally occur on a larger scale, curated dataset.\\nHigh-quality video finetuning works with a smaller, pre-captioned video of high visual fidelity.\\n\\nSVD specially emphasizes the critical role of dataset curation in model performance. They applied a cut detection pipeline to get more cuts per video and then applied three different captioner models: (1) CoCa for mid-frame, (2) V-BLIP for a video caption, and (3) LLM based captioning based on previous two captions. Then they were able to continue to improve video datasets, by removing clips with less motion (filtered by low optical flow scores calculated at 2 fps), excessive text presence (apply optical character recognition to identify videos with lots of text), or generally low aesthetic value (annotate the first, middle, and last frames of each clip with CLIP embeddings and calculate aesthetics scores & text-image similarities). The experiments showed that a filtered, higher quality dataset leads to better model quality, even when this dataset is much smaller.\\nThe key challenge of generating distant key frames first and then adding interpolation with temporal super-resolution is how to maintain high-quality temporal consistency. Lumiere (Bar-Tal et al. 2024) instead adopts a space-time U-Net (STUNet) architecture that generates the entire temporal duration of the video at once through a single pass, removing the dependency on TSR (temporal super-resolution) components. STUNet downsamples the video in both time and space dimensions and thus expensive computation happens in a compact time-space latent space.\\n\\n\\nLumiere removes TSR (temporal super-resolution) models. The inflated SSR network can operate only on short segments of the video due to memory constraints and thus SSR models operate on a set of shorter but overlapped video snippets. (Image source: Bar-Tal et al. 2024)\\n\\nSTUNet inflates a pretrained text-to-image U-net to be able to downsample and upsample videos at both time and space dimensions. Convo-based blocks consist of pre-trained text-to-image layers, followed by a factorized space-time convolution. And attention-based blocks at the coarsest U-Net level contains the pre-trained text-to-image, followed by temporal attention. Further training only happens with the newly added layers.\\n\\n\\nThe architecture of (a) Space-Time U-Net (STUNet), (b) the convolution-based block, and (c) the attention-based block. (Image source: Bar-Tal et al. 2024)\\n\\n\\nTraining-Free Adaptation#\\nSomehow surprisingly, it is possible to adapt a pre-trained text-to-image model to output videos without any training 🤯.\\nIf we naively sample a sequence of latent codes at random and then construct a video of decoded corresponding images, there is no guarantee in the consistency in objects and semantics in time. Text2Video-Zero (Khachatryan et al. 2023) enables zero-shot, training-free video generation by enhancing a pre-trained image diffusion model with two key mechanisms for temporal consistency:\\n\\nSampling the sequence of latent codes with motion dynamics to keep the global scene and the background time consistent;\\nReprogramming frame-level self-attention using a new cross-frame attention of each frame on the first frame, to preserve the context, appearance, and identity of the foreground object.\\n\\n\\n\\nAn overview of the Text2Video-Zero pipeline. (Image source: Khachatryan et al. 2023)\\n\\nThe process of sampling a sequence of latent variables, $\\\\mathbf{x}^1_T, \\\\dots, \\\\mathbf{x}^m_T$, with motion information is described as follows:\\n\\nDefine a direction $\\\\boldsymbol{\\\\delta} = (\\\\delta_x, \\\\delta_y) \\\\in \\\\mathbb{R}^2$ for controlling the global scene and camera motion; by default, we set $\\\\boldsymbol{\\\\delta} = (1, 1)$. Also define a hyperparameter $\\\\lambda > 0$ controlling the amount of global motion.\\nFirst sample the latent code of the first frame at random, $\\\\mathbf{x}^1_T \\\\sim \\\\mathcal{N}(0, I)$;\\nPerform $\\\\Delta t \\\\geq 0$ DDIM backward update steps using the pre-trained image diffusion model, e.g. Stable Diffusion (SD) model in the paper, and obtain the corresponding latent code $\\\\mathbf{x}^1_{T’}$ where $T’ = T - \\\\Delta t$.\\nFor each frame in the latent code sequence, we apply corresponding motion translation with a warping operation defined by $\\\\boldsymbol{\\\\delta}^k = \\\\lambda(k-1)\\\\boldsymbol{\\\\delta}$ to obtain $\\\\tilde{\\\\mathbf{x}}^k_{T’}$.\\nFinally apply DDIM forward steps to all $\\\\tilde{\\\\mathbf{x}}^{2:m}_{T’}$ to obtain $\\\\mathbf{x}^{2:m}_T$.\\n\\n\\n$$\\n\\\\begin{aligned}\\n\\\\mathbf{x}^1_{T\\'} &= \\\\text{DDIM-backward}(\\\\mathbf{x}^1_T, \\\\Delta t)\\\\text{ where }T\\' = T - \\\\Delta t \\\\\\\\\\nW_k &\\\\gets \\\\text{a warping operation of }\\\\boldsymbol{\\\\delta}^k = \\\\lambda(k-1)\\\\boldsymbol{\\\\delta} \\\\\\\\\\n\\\\tilde{\\\\mathbf{x}}^k_{T\\'} &= W_k(\\\\mathbf{x}^1_{T\\'})\\\\\\\\\\n\\\\mathbf{x}^k_T &= \\\\text{DDIM-forward}(\\\\tilde{\\\\mathbf{x}}^k_{T\\'}, \\\\Delta t)\\\\text{ for }k=2, \\\\dots, m\\n\\\\end{aligned}\\n$$\\n\\nBesides, Text2Video-Zero replaces the self-attention layer in a pre-trained SD model with a new cross-frame attention mechanism with reference to the first frame. The motivation is to preserve the information about the foreground object’s appearance, shape, and identity throughout the generated video.\\n \\n$$\\n\\\\text{Cross-Frame-Attn}(\\\\mathbf{Q}^k, \\\\mathbf{K}^{1:m}, \\\\mathbf{V}^{1:m}) = \\\\text{Softmax}\\\\Big( \\\\frac{\\\\mathbf{Q}^k (\\\\mathbf{K}^1)^\\\\top}{\\\\sqrt{c}} \\\\Big) \\\\mathbf{V}^1\\n$$\\n\\nOptionally, the background mask can be used to further smoothen and improve background consistency. Let’s say, we obtain a corresponding foreground mask $\\\\mathbf{M}_k$ for the $k$-th frame using some existing method, and background smoothing merges the actual and the warped latent code at the diffusion step $t$, w.r.t. the background matrix:\\n \\n$$\\n\\\\bar{\\\\mathbf{x}}^k_t = \\\\mathbf{M}^k \\\\odot \\\\mathbf{x}^k_t + (1 − \\\\mathbf{M}^k) \\\\odot (\\\\alpha\\\\tilde{\\\\mathbf{x}}^k_t +(1−\\\\alpha)\\\\mathbf{x}^k_t)\\\\quad\\\\text{for }k=1, \\\\dots, m\\n$$\\n\\nwhere $\\\\mathbf{x}^k_t$ is the actual latent code and $\\\\tilde{\\\\mathbf{x}}^k_t$ is the warped latent code on the background; $\\\\alpha$ is a hyperparameter and the papers set $\\\\alpha=0.6$ in the experiments.\\nText2video-zero can be combined with ControlNet where the ControlNet pretrained copy branch is applied per frame on each $\\\\mathbf{x}^k_t$ for $k = 1, \\\\dots, m$ in each diffusion time-step $t = T , \\\\dots, 1$ and add the ControlNet branch outputs to the skip-connections of the main U-net.\\nControlVideo (Zhang et al. 2023) aims to generate videos conditioned on text prompt $\\\\tau$ and a motion sequence (e.g., depth or edge maps), $\\\\mathbf{c} = \\\\{c^i\\\\}_{i=0}^{N-1}$. It is adapted from ControlNet with three new mechanisms added:\\n\\nCross-frame attention: Adds fully cross-frame interaction in self-attention modules. It introduces interactions between all the frames, by mapping the latent frames at all the time steps into $\\\\mathbf{Q}, \\\\mathbf{K}, \\\\mathbf{V}$ matrices, different from Text2Video-zero which only configures all the frames to attend to the first frame.\\nInterleaved-frame smoother is a mechanism to employ frame interpolation on alternated frames to reduce the flickering effect. At each time step $t$, the smoother interpolates the even or odd frames to smooth their corresponding three-frame clips. Note that the number of frames decreases in time after smoothing steps.\\nHierarchical sampler utilizes a hierarchical sampler to enable long videos with time consistency under memory constraints. A long video is split into multiple short clips and each has a key frame selected. The model pre-generates these keyframes with full cross-frame attention for long-term coherency and each corresponding short clip is synthesized sequentially conditioned on the keyframes.\\n\\n\\n\\nThe overview of ControlVideo. (Image source: Zhang et al. 2023)\\n\\nCitation#\\nCited as:\\n\\nWeng, Lilian. (Apr 2024). Diffusion Models Video Generation. Lil’Log. https://lilianweng.github.io/posts/2024-04-12-diffusion-video/.\\n\\nOr\\n@article{weng2024video,\\n  title   = \"Diffusion Models Video Generation.\",\\n  author  = \"Weng, Lilian\",\\n  journal = \"lilianweng.github.io\",\\n  year    = \"2024\",\\n  month   = \"Apr\",\\n  url     = \"https://lilianweng.github.io/posts/2024-04-12-diffusion-video/\"\\n}\\nReferences#\\n[1] Cicek et al. 2016. “3D U-Net: Learning Dense Volumetric Segmentation from Sparse Annotation.”\\n[2] Ho & Salimans, et al. “Video Diffusion Models.” 2022 | webpage\\n[3] Bar-Tal et al. 2024 “Lumiere: A Space-Time Diffusion Model for Video Generation.”\\n[4] Brooks et al. “Video generation models as world simulators.” OpenAI Blog, 2024.\\n[5] Zhang et al. 2023 “ControlVideo: Training-free Controllable Text-to-Video Generation.”\\n[6] Khachatryan et al. 2023 “Text2Video-Zero: Text-to-image diffusion models are zero-shot video generators.”\\n[7] Ho, et al. 2022 “Imagen Video: High Definition Video Generation with Diffusion Models.”\\n[8] Singer et al. “Make-A-Video: Text-to-Video Generation without Text-Video Data.” 2022.\\n[9] Wu et al. “Tune-A-Video: One-Shot Tuning of Image Diffusion Models for Text-to-Video Generation.” ICCV 2023.\\n[10] Blattmann et al. 2023 “Align your Latents: High-Resolution Video Synthesis with Latent Diffusion Models.”\\n[11] Blattmann et al. 2023 “Stable Video Diffusion: Scaling Latent Video Diffusion Models to Large Datasets.”\\n[12] Esser et al. 2023 “Structure and Content-Guided Video Synthesis with Diffusion Models.”\\n[13] Bar-Tal et al. 2024 “Lumiere: A Space-Time Diffusion Model for Video Generation.”\\n')]"
      ]
     },
     "execution_count": 6,
     "metadata": {},
     "output_type": "execute_result"
    }
   ],
   "source": [
    "text_documents"
   ]
  },
  {
   "cell_type": "code",
   "execution_count": 12,
   "id": "01abc664",
   "metadata": {},
   "outputs": [],
   "source": [
    "#Read from PDf directly \n",
    "from langchain_community.document_loaders import PyPDFLoader\n",
    "loader = PyPDFLoader('/Users/aditishelke/Downloads/github project 1/temp_resume.pdf')\n"
   ]
  },
  {
   "cell_type": "code",
   "execution_count": 13,
   "id": "2a3d8804",
   "metadata": {},
   "outputs": [
    {
     "name": "stderr",
     "output_type": "stream",
     "text": [
      "Ignoring wrong pointing object 6 0 (offset 0)\n",
      "Ignoring wrong pointing object 8 0 (offset 0)\n",
      "Ignoring wrong pointing object 10 0 (offset 0)\n",
      "Ignoring wrong pointing object 12 0 (offset 0)\n",
      "Ignoring wrong pointing object 14 0 (offset 0)\n",
      "Ignoring wrong pointing object 16 0 (offset 0)\n",
      "Ignoring wrong pointing object 18 0 (offset 0)\n",
      "Ignoring wrong pointing object 20 0 (offset 0)\n",
      "Ignoring wrong pointing object 23 0 (offset 0)\n",
      "Ignoring wrong pointing object 25 0 (offset 0)\n"
     ]
    }
   ],
   "source": [
    "resume = loader.load()"
   ]
  },
  {
   "cell_type": "code",
   "execution_count": 14,
   "id": "6b679757",
   "metadata": {},
   "outputs": [
    {
     "data": {
      "text/plain": [
       "[Document(metadata={'producer': 'macOS Version 14.5 (Build 23F79) Quartz PDFContext', 'creator': 'Word', 'creationdate': \"D:20250616201610Z00'00'\", 'title': 'Aditi Shelke resume', 'author': 'Aditi Shelke', 'moddate': \"D:20250616201610Z00'00'\", 'source': '/Users/aditishelke/Downloads/github project 1/temp_resume.pdf', 'total_pages': 1, 'page': 0, 'page_label': '1'}, page_content=\"Aditi Shelke aditishelke333@gmail.com |\\tHoboken,\\tNJ\\t|\\tlinkedin.com/in/aditi-shelke | github.com/AditiShelke  \\nEDUCATION  \\nStevens Institute of Technology                                                                                                                                                                        Expected May 2026 Master of Science in Data Science Relevant Coursework: Probability, Machine Learning, Data Mining, Data Visualization, Marketing Analytics  D.Y.Patil College of Engineering & Technology, Kolhapur           Sept 2024 Bachelor of Technology | CGPA: 8.49 Relevant Coursework: Data Structures & Algorithm, Database Management System, Artificial Intelligence, Machine Learning Honors: Design Co-Lead for Google Developers Student Club (GDSC)  Udacity AWS AI & ML Scholarship | AI Programming with Python           Jan 2024 Coursework: Neural Networks, Deep Learning with PyTorch Skills learned: Python, NumPy, Pandas, Matplotlib, linear algebra, calculus  SKILLS & CERTIFICATIONS Technical Skills: Python, SQL, Tableau, Power BI, AWS (S3, EC2), LangChain, Hugging Face, Jupyter Notebook, Excel (Advanced), R, TensorFlow, Data Visualization, ggplot, Google Analytics, Transformers, REST APIs Knowledge Areas: Data Analysis, Machine Learning Algorithms, Data Exploration, Cloud Infrastructure (AWS/S3), Data Pipelines, NLP, Large Language Models (LLM), Retrieval-Augmented Generation (RAG), Translation Evaluation, Model Fine-tuning Certifications: AWS Academy Graduate: Academy Cloud Foundations, Academy Cloud Architecting, Coursera: Python for Data Science and AI Spoken Languages: Hindi, Marathi, English, Sanskrit  EXPERIENCE The Compass Group USA Sep 24 - Present Data Analyst  • Developed forecasting dashboards using Power BI and Webtrition to predict daily meal demand, reducing food waste by 20% across 200+ SKUs • Automated real-time updates on Grubhub’s backend by syncing inventory and ingredient metadata, ensuring accurate and timely customer-facing digital displays. • Analyzed seasonal trends and dietary preferences across customer segments to guide dynamic menu planning and enhance ingredient sourcing efficiency • Conducted quantitative analysis on BEOs and past event data, modeling headcount demand curves and predicting resource consumption to improve event logistics and bidding accuracy. AWS Virtual AI-ML Internship, AICTE Jan 23-March 23 Machine Learning Intern • Implemented end-to-end Machine Learning Pipelines with Amazon SageMaker, encompassing data import, exploration, outlier handling, and feature selection to enhance model performance • Trained and deployed Machine learning models, optimizing hyperparameters and achieving accurate predictions for real-time applications • Utilized cutting-edge NLP algorithms and Amazon Lex's capabilities to design a chatbot that effectively understood and responded to user queries, significantly enhancing user engagement and satisfaction AWS Virtual Cloud Internship, AICTE Jul 22-Dec 22 AWS Cloud Engineer Intern • Built and deployed secure VPC architecture with public/private subnets, NAT and internet gateways, enabling isolated EC2 and RDS communication across multiple availability zones • Launched and configured Amazon EC2 instances with user-data scripts to install Apache servers, deploy PHP- based web applications, and validate access via DNS and security group rules • Provisioned MySQL databases using Amazon RDS with custom subnet groups and security policies, supporting full-stack connectivity with deployed  • web application Comtranse Technology May 22-Oct 22 Python Developer Intern • Developed a stock management and update system with Python and MVC architecture, saving the local shoe seller 100 hours annually in manual inventory tracking • Wrote SQL queries to retrieve structured product data and connected backend datasets to Power BI for dynamic reporting • Crafted interactive Power BI dashboards, reducing report generation time from 4 hours to 30 minutes • Automated data updates between the website and backend database, improving reporting consistency and accuracy by 60% ACADEMIC PROJECTS Big Mart's Sales Prediction using Machine Learning | Python • Implemented a linear regression model to predict sales at Big Mart, resulting in an R2 score of 75.70% and a RMSE of 0.519 • Conducted comprehensive data exploration and visualization to gain insights into underlying patterns in the data and inform model development Predicting Airplane Delays | Python, AWS • Developed a flight delay prediction model using XGBoost and Amazon SageMaker with an 80.26% overall accuracy, aiding airlines in proactive decision-making for managing weather-related delays during an internship • Attained an optimized accuracy of 79.94%, sensitivity of 8.87%, and specificity of 98.82% after hyperparameter tuning • Utilized ROC curve analysis to evaluate model performance, achieving a validation AUC of 0.54 in the initial model and 0.53 after hyperparameter tuning Pre-trained Image Classifier – AWS AI Programming with Python nanodegree scholarship program | Python • Implemented and evaluated 3 distinct CNN models (VGG, ResNet, and AlexNet) for image classification • Achieved an accuracy of 93.33% in classifying dog breeds using the VGG model\")]"
      ]
     },
     "execution_count": 14,
     "metadata": {},
     "output_type": "execute_result"
    }
   ],
   "source": [
    "resume"
   ]
  },
  {
   "cell_type": "code",
   "execution_count": 15,
   "id": "c8422e4f",
   "metadata": {},
   "outputs": [
    {
     "data": {
      "text/plain": [
       "[Document(metadata={'producer': 'macOS Version 14.5 (Build 23F79) Quartz PDFContext', 'creator': 'Word', 'creationdate': \"D:20250616201610Z00'00'\", 'title': 'Aditi Shelke resume', 'author': 'Aditi Shelke', 'moddate': \"D:20250616201610Z00'00'\", 'source': '/Users/aditishelke/Downloads/github project 1/temp_resume.pdf', 'total_pages': 1, 'page': 0, 'page_label': '1'}, page_content='Aditi Shelke aditishelke333@gmail.com |\\tHoboken,\\tNJ\\t|\\tlinkedin.com/in/aditi-shelke | github.com/AditiShelke  \\nEDUCATION'),\n",
       " Document(metadata={'producer': 'macOS Version 14.5 (Build 23F79) Quartz PDFContext', 'creator': 'Word', 'creationdate': \"D:20250616201610Z00'00'\", 'title': 'Aditi Shelke resume', 'author': 'Aditi Shelke', 'moddate': \"D:20250616201610Z00'00'\", 'source': '/Users/aditishelke/Downloads/github project 1/temp_resume.pdf', 'total_pages': 1, 'page': 0, 'page_label': '1'}, page_content='Stevens Institute of Technology                                                                                                                                                                        Expected May 2026 Master of Science in Data Science Relevant Coursework: Probability, Machine Learning, Data Mining, Data Visualization, Marketing Analytics  D.Y.Patil College of Engineering & Technology, Kolhapur           Sept 2024 Bachelor of Technology | CGPA: 8.49 Relevant Coursework: Data Structures & Algorithm, Database Management System, Artificial Intelligence, Machine Learning Honors: Design Co-Lead for Google Developers Student Club (GDSC)  Udacity AWS AI & ML Scholarship | AI Programming with Python           Jan 2024 Coursework: Neural Networks, Deep Learning with PyTorch Skills learned: Python, NumPy, Pandas, Matplotlib, linear algebra, calculus  SKILLS & CERTIFICATIONS Technical Skills: Python, SQL, Tableau, Power BI, AWS (S3, EC2), LangChain, Hugging Face, Jupyter Notebook,'),\n",
       " Document(metadata={'producer': 'macOS Version 14.5 (Build 23F79) Quartz PDFContext', 'creator': 'Word', 'creationdate': \"D:20250616201610Z00'00'\", 'title': 'Aditi Shelke resume', 'author': 'Aditi Shelke', 'moddate': \"D:20250616201610Z00'00'\", 'source': '/Users/aditishelke/Downloads/github project 1/temp_resume.pdf', 'total_pages': 1, 'page': 0, 'page_label': '1'}, page_content='Python, NumPy, Pandas, Matplotlib, linear algebra, calculus  SKILLS & CERTIFICATIONS Technical Skills: Python, SQL, Tableau, Power BI, AWS (S3, EC2), LangChain, Hugging Face, Jupyter Notebook, Excel (Advanced), R, TensorFlow, Data Visualization, ggplot, Google Analytics, Transformers, REST APIs Knowledge Areas: Data Analysis, Machine Learning Algorithms, Data Exploration, Cloud Infrastructure (AWS/S3), Data Pipelines, NLP, Large Language Models (LLM), Retrieval-Augmented Generation (RAG), Translation Evaluation, Model Fine-tuning Certifications: AWS Academy Graduate: Academy Cloud Foundations, Academy Cloud Architecting, Coursera: Python for Data Science and AI Spoken Languages: Hindi, Marathi, English, Sanskrit  EXPERIENCE The Compass Group USA Sep 24 - Present Data Analyst  • Developed forecasting dashboards using Power BI and Webtrition to predict daily meal demand, reducing food waste by 20% across 200+ SKUs • Automated real-time updates on Grubhub’s backend by syncing inventory'),\n",
       " Document(metadata={'producer': 'macOS Version 14.5 (Build 23F79) Quartz PDFContext', 'creator': 'Word', 'creationdate': \"D:20250616201610Z00'00'\", 'title': 'Aditi Shelke resume', 'author': 'Aditi Shelke', 'moddate': \"D:20250616201610Z00'00'\", 'source': '/Users/aditishelke/Downloads/github project 1/temp_resume.pdf', 'total_pages': 1, 'page': 0, 'page_label': '1'}, page_content='forecasting dashboards using Power BI and Webtrition to predict daily meal demand, reducing food waste by 20% across 200+ SKUs • Automated real-time updates on Grubhub’s backend by syncing inventory and ingredient metadata, ensuring accurate and timely customer-facing digital displays. • Analyzed seasonal trends and dietary preferences across customer segments to guide dynamic menu planning and enhance ingredient sourcing efficiency • Conducted quantitative analysis on BEOs and past event data, modeling headcount demand curves and predicting resource consumption to improve event logistics and bidding accuracy. AWS Virtual AI-ML Internship, AICTE Jan 23-March 23 Machine Learning Intern • Implemented end-to-end Machine Learning Pipelines with Amazon SageMaker, encompassing data import, exploration, outlier handling, and feature selection to enhance model performance • Trained and deployed Machine learning models, optimizing hyperparameters and achieving accurate predictions for'),\n",
       " Document(metadata={'producer': 'macOS Version 14.5 (Build 23F79) Quartz PDFContext', 'creator': 'Word', 'creationdate': \"D:20250616201610Z00'00'\", 'title': 'Aditi Shelke resume', 'author': 'Aditi Shelke', 'moddate': \"D:20250616201610Z00'00'\", 'source': '/Users/aditishelke/Downloads/github project 1/temp_resume.pdf', 'total_pages': 1, 'page': 0, 'page_label': '1'}, page_content=\"exploration, outlier handling, and feature selection to enhance model performance • Trained and deployed Machine learning models, optimizing hyperparameters and achieving accurate predictions for real-time applications • Utilized cutting-edge NLP algorithms and Amazon Lex's capabilities to design a chatbot that effectively understood and responded to user queries, significantly enhancing user engagement and satisfaction AWS Virtual Cloud Internship, AICTE Jul 22-Dec 22 AWS Cloud Engineer Intern • Built and deployed secure VPC architecture with public/private subnets, NAT and internet gateways, enabling isolated EC2 and RDS communication across multiple availability zones • Launched and configured Amazon EC2 instances with user-data scripts to install Apache servers, deploy PHP- based web applications, and validate access via DNS and security group rules • Provisioned MySQL databases using Amazon RDS with custom subnet groups and security policies, supporting full-stack connectivity\")]"
      ]
     },
     "execution_count": 15,
     "metadata": {},
     "output_type": "execute_result"
    }
   ],
   "source": [
    "#Transform as per the pipeline \n",
    "#can do for other files too excel, etc etc check RAG pipeline \n",
    "\n",
    "from langchain.text_splitter import RecursiveCharacterTextSplitter\n",
    "text_splitter=RecursiveCharacterTextSplitter(chunk_size=1000,chunk_overlap=200)\n",
    "documents=text_splitter.split_documents(resume)\n",
    "documents[:5]"
   ]
  },
  {
   "cell_type": "code",
   "execution_count": 16,
   "id": "53293d8f",
   "metadata": {},
   "outputs": [
    {
     "data": {
      "text/plain": [
       "[Document(metadata={'producer': 'macOS Version 14.5 (Build 23F79) Quartz PDFContext', 'creator': 'Word', 'creationdate': \"D:20250616201610Z00'00'\", 'title': 'Aditi Shelke resume', 'author': 'Aditi Shelke', 'moddate': \"D:20250616201610Z00'00'\", 'source': '/Users/aditishelke/Downloads/github project 1/temp_resume.pdf', 'total_pages': 1, 'page': 0, 'page_label': '1'}, page_content='Aditi Shelke aditishelke333@gmail.com |\\tHoboken,\\tNJ\\t|\\tlinkedin.com/in/aditi-shelke | github.com/AditiShelke  \\nEDUCATION'),\n",
       " Document(metadata={'producer': 'macOS Version 14.5 (Build 23F79) Quartz PDFContext', 'creator': 'Word', 'creationdate': \"D:20250616201610Z00'00'\", 'title': 'Aditi Shelke resume', 'author': 'Aditi Shelke', 'moddate': \"D:20250616201610Z00'00'\", 'source': '/Users/aditishelke/Downloads/github project 1/temp_resume.pdf', 'total_pages': 1, 'page': 0, 'page_label': '1'}, page_content='Stevens Institute of Technology                                                                                                                                                                        Expected May 2026 Master of Science in Data Science Relevant Coursework: Probability, Machine Learning, Data Mining, Data Visualization, Marketing Analytics  D.Y.Patil College of Engineering & Technology, Kolhapur           Sept 2024 Bachelor of Technology | CGPA: 8.49 Relevant Coursework: Data Structures & Algorithm, Database Management System, Artificial Intelligence, Machine Learning Honors: Design Co-Lead for Google Developers Student Club (GDSC)  Udacity AWS AI & ML Scholarship | AI Programming with Python           Jan 2024 Coursework: Neural Networks, Deep Learning with PyTorch Skills learned: Python, NumPy, Pandas, Matplotlib, linear algebra, calculus  SKILLS & CERTIFICATIONS Technical Skills: Python, SQL, Tableau, Power BI, AWS (S3, EC2), LangChain, Hugging Face, Jupyter Notebook,'),\n",
       " Document(metadata={'producer': 'macOS Version 14.5 (Build 23F79) Quartz PDFContext', 'creator': 'Word', 'creationdate': \"D:20250616201610Z00'00'\", 'title': 'Aditi Shelke resume', 'author': 'Aditi Shelke', 'moddate': \"D:20250616201610Z00'00'\", 'source': '/Users/aditishelke/Downloads/github project 1/temp_resume.pdf', 'total_pages': 1, 'page': 0, 'page_label': '1'}, page_content='Python, NumPy, Pandas, Matplotlib, linear algebra, calculus  SKILLS & CERTIFICATIONS Technical Skills: Python, SQL, Tableau, Power BI, AWS (S3, EC2), LangChain, Hugging Face, Jupyter Notebook, Excel (Advanced), R, TensorFlow, Data Visualization, ggplot, Google Analytics, Transformers, REST APIs Knowledge Areas: Data Analysis, Machine Learning Algorithms, Data Exploration, Cloud Infrastructure (AWS/S3), Data Pipelines, NLP, Large Language Models (LLM), Retrieval-Augmented Generation (RAG), Translation Evaluation, Model Fine-tuning Certifications: AWS Academy Graduate: Academy Cloud Foundations, Academy Cloud Architecting, Coursera: Python for Data Science and AI Spoken Languages: Hindi, Marathi, English, Sanskrit  EXPERIENCE The Compass Group USA Sep 24 - Present Data Analyst  • Developed forecasting dashboards using Power BI and Webtrition to predict daily meal demand, reducing food waste by 20% across 200+ SKUs • Automated real-time updates on Grubhub’s backend by syncing inventory'),\n",
       " Document(metadata={'producer': 'macOS Version 14.5 (Build 23F79) Quartz PDFContext', 'creator': 'Word', 'creationdate': \"D:20250616201610Z00'00'\", 'title': 'Aditi Shelke resume', 'author': 'Aditi Shelke', 'moddate': \"D:20250616201610Z00'00'\", 'source': '/Users/aditishelke/Downloads/github project 1/temp_resume.pdf', 'total_pages': 1, 'page': 0, 'page_label': '1'}, page_content='forecasting dashboards using Power BI and Webtrition to predict daily meal demand, reducing food waste by 20% across 200+ SKUs • Automated real-time updates on Grubhub’s backend by syncing inventory and ingredient metadata, ensuring accurate and timely customer-facing digital displays. • Analyzed seasonal trends and dietary preferences across customer segments to guide dynamic menu planning and enhance ingredient sourcing efficiency • Conducted quantitative analysis on BEOs and past event data, modeling headcount demand curves and predicting resource consumption to improve event logistics and bidding accuracy. AWS Virtual AI-ML Internship, AICTE Jan 23-March 23 Machine Learning Intern • Implemented end-to-end Machine Learning Pipelines with Amazon SageMaker, encompassing data import, exploration, outlier handling, and feature selection to enhance model performance • Trained and deployed Machine learning models, optimizing hyperparameters and achieving accurate predictions for'),\n",
       " Document(metadata={'producer': 'macOS Version 14.5 (Build 23F79) Quartz PDFContext', 'creator': 'Word', 'creationdate': \"D:20250616201610Z00'00'\", 'title': 'Aditi Shelke resume', 'author': 'Aditi Shelke', 'moddate': \"D:20250616201610Z00'00'\", 'source': '/Users/aditishelke/Downloads/github project 1/temp_resume.pdf', 'total_pages': 1, 'page': 0, 'page_label': '1'}, page_content=\"exploration, outlier handling, and feature selection to enhance model performance • Trained and deployed Machine learning models, optimizing hyperparameters and achieving accurate predictions for real-time applications • Utilized cutting-edge NLP algorithms and Amazon Lex's capabilities to design a chatbot that effectively understood and responded to user queries, significantly enhancing user engagement and satisfaction AWS Virtual Cloud Internship, AICTE Jul 22-Dec 22 AWS Cloud Engineer Intern • Built and deployed secure VPC architecture with public/private subnets, NAT and internet gateways, enabling isolated EC2 and RDS communication across multiple availability zones • Launched and configured Amazon EC2 instances with user-data scripts to install Apache servers, deploy PHP- based web applications, and validate access via DNS and security group rules • Provisioned MySQL databases using Amazon RDS with custom subnet groups and security policies, supporting full-stack connectivity\"),\n",
       " Document(metadata={'producer': 'macOS Version 14.5 (Build 23F79) Quartz PDFContext', 'creator': 'Word', 'creationdate': \"D:20250616201610Z00'00'\", 'title': 'Aditi Shelke resume', 'author': 'Aditi Shelke', 'moddate': \"D:20250616201610Z00'00'\", 'source': '/Users/aditishelke/Downloads/github project 1/temp_resume.pdf', 'total_pages': 1, 'page': 0, 'page_label': '1'}, page_content=\"applications, and validate access via DNS and security group rules • Provisioned MySQL databases using Amazon RDS with custom subnet groups and security policies, supporting full-stack connectivity with deployed  • web application Comtranse Technology May 22-Oct 22 Python Developer Intern • Developed a stock management and update system with Python and MVC architecture, saving the local shoe seller 100 hours annually in manual inventory tracking • Wrote SQL queries to retrieve structured product data and connected backend datasets to Power BI for dynamic reporting • Crafted interactive Power BI dashboards, reducing report generation time from 4 hours to 30 minutes • Automated data updates between the website and backend database, improving reporting consistency and accuracy by 60% ACADEMIC PROJECTS Big Mart's Sales Prediction using Machine Learning | Python • Implemented a linear regression model to predict sales at Big Mart, resulting in an R2 score of 75.70% and a RMSE of 0.519 •\"),\n",
       " Document(metadata={'producer': 'macOS Version 14.5 (Build 23F79) Quartz PDFContext', 'creator': 'Word', 'creationdate': \"D:20250616201610Z00'00'\", 'title': 'Aditi Shelke resume', 'author': 'Aditi Shelke', 'moddate': \"D:20250616201610Z00'00'\", 'source': '/Users/aditishelke/Downloads/github project 1/temp_resume.pdf', 'total_pages': 1, 'page': 0, 'page_label': '1'}, page_content=\"PROJECTS Big Mart's Sales Prediction using Machine Learning | Python • Implemented a linear regression model to predict sales at Big Mart, resulting in an R2 score of 75.70% and a RMSE of 0.519 • Conducted comprehensive data exploration and visualization to gain insights into underlying patterns in the data and inform model development Predicting Airplane Delays | Python, AWS • Developed a flight delay prediction model using XGBoost and Amazon SageMaker with an 80.26% overall accuracy, aiding airlines in proactive decision-making for managing weather-related delays during an internship • Attained an optimized accuracy of 79.94%, sensitivity of 8.87%, and specificity of 98.82% after hyperparameter tuning • Utilized ROC curve analysis to evaluate model performance, achieving a validation AUC of 0.54 in the initial model and 0.53 after hyperparameter tuning Pre-trained Image Classifier – AWS AI Programming with Python nanodegree scholarship program | Python • Implemented and evaluated 3\"),\n",
       " Document(metadata={'producer': 'macOS Version 14.5 (Build 23F79) Quartz PDFContext', 'creator': 'Word', 'creationdate': \"D:20250616201610Z00'00'\", 'title': 'Aditi Shelke resume', 'author': 'Aditi Shelke', 'moddate': \"D:20250616201610Z00'00'\", 'source': '/Users/aditishelke/Downloads/github project 1/temp_resume.pdf', 'total_pages': 1, 'page': 0, 'page_label': '1'}, page_content='of 0.54 in the initial model and 0.53 after hyperparameter tuning Pre-trained Image Classifier – AWS AI Programming with Python nanodegree scholarship program | Python • Implemented and evaluated 3 distinct CNN models (VGG, ResNet, and AlexNet) for image classification • Achieved an accuracy of 93.33% in classifying dog breeds using the VGG model')]"
      ]
     },
     "execution_count": 16,
     "metadata": {},
     "output_type": "execute_result"
    }
   ],
   "source": [
    "documents"
   ]
  },
  {
   "cell_type": "code",
   "execution_count": 17,
   "id": "bd11aa89",
   "metadata": {},
   "outputs": [
    {
     "ename": "RateLimitError",
     "evalue": "Error code: 429 - {'error': {'message': 'You exceeded your current quota, please check your plan and billing details. For more information on this error, read the docs: https://platform.openai.com/docs/guides/error-codes/api-errors.', 'type': 'insufficient_quota', 'param': None, 'code': 'insufficient_quota'}}",
     "output_type": "error",
     "traceback": [
      "\u001b[31m---------------------------------------------------------------------------\u001b[39m",
      "\u001b[31mRateLimitError\u001b[39m                            Traceback (most recent call last)",
      "\u001b[36mCell\u001b[39m\u001b[36m \u001b[39m\u001b[32mIn[17]\u001b[39m\u001b[32m, line 4\u001b[39m\n\u001b[32m      2\u001b[39m \u001b[38;5;28;01mfrom\u001b[39;00m\u001b[38;5;250m \u001b[39m\u001b[34;01mlangchain_openai\u001b[39;00m\u001b[38;5;250m \u001b[39m\u001b[38;5;28;01mimport\u001b[39;00m OpenAIEmbeddings\n\u001b[32m      3\u001b[39m \u001b[38;5;28;01mfrom\u001b[39;00m\u001b[38;5;250m \u001b[39m\u001b[34;01mlangchain_community\u001b[39;00m\u001b[34;01m.\u001b[39;00m\u001b[34;01mvectorstores\u001b[39;00m\u001b[38;5;250m \u001b[39m\u001b[38;5;28;01mimport\u001b[39;00m Chroma\n\u001b[32m----> \u001b[39m\u001b[32m4\u001b[39m db = \u001b[43mChroma\u001b[49m\u001b[43m.\u001b[49m\u001b[43mfrom_documents\u001b[49m\u001b[43m(\u001b[49m\u001b[43mdocuments\u001b[49m\u001b[43m,\u001b[49m\u001b[43mOpenAIEmbeddings\u001b[49m\u001b[43m(\u001b[49m\u001b[43m)\u001b[49m\u001b[43m)\u001b[49m\n",
      "\u001b[36mFile \u001b[39m\u001b[32m~/Downloads/github project 1/venv/lib/python3.12/site-packages/langchain_community/vectorstores/chroma.py:887\u001b[39m, in \u001b[36mChroma.from_documents\u001b[39m\u001b[34m(cls, documents, embedding, ids, collection_name, persist_directory, client_settings, client, collection_metadata, **kwargs)\u001b[39m\n\u001b[32m    885\u001b[39m texts = [doc.page_content \u001b[38;5;28;01mfor\u001b[39;00m doc \u001b[38;5;129;01min\u001b[39;00m documents]\n\u001b[32m    886\u001b[39m metadatas = [doc.metadata \u001b[38;5;28;01mfor\u001b[39;00m doc \u001b[38;5;129;01min\u001b[39;00m documents]\n\u001b[32m--> \u001b[39m\u001b[32m887\u001b[39m \u001b[38;5;28;01mreturn\u001b[39;00m \u001b[38;5;28;43mcls\u001b[39;49m\u001b[43m.\u001b[49m\u001b[43mfrom_texts\u001b[49m\u001b[43m(\u001b[49m\n\u001b[32m    888\u001b[39m \u001b[43m    \u001b[49m\u001b[43mtexts\u001b[49m\u001b[43m=\u001b[49m\u001b[43mtexts\u001b[49m\u001b[43m,\u001b[49m\n\u001b[32m    889\u001b[39m \u001b[43m    \u001b[49m\u001b[43membedding\u001b[49m\u001b[43m=\u001b[49m\u001b[43membedding\u001b[49m\u001b[43m,\u001b[49m\n\u001b[32m    890\u001b[39m \u001b[43m    \u001b[49m\u001b[43mmetadatas\u001b[49m\u001b[43m=\u001b[49m\u001b[43mmetadatas\u001b[49m\u001b[43m,\u001b[49m\n\u001b[32m    891\u001b[39m \u001b[43m    \u001b[49m\u001b[43mids\u001b[49m\u001b[43m=\u001b[49m\u001b[43mids\u001b[49m\u001b[43m,\u001b[49m\n\u001b[32m    892\u001b[39m \u001b[43m    \u001b[49m\u001b[43mcollection_name\u001b[49m\u001b[43m=\u001b[49m\u001b[43mcollection_name\u001b[49m\u001b[43m,\u001b[49m\n\u001b[32m    893\u001b[39m \u001b[43m    \u001b[49m\u001b[43mpersist_directory\u001b[49m\u001b[43m=\u001b[49m\u001b[43mpersist_directory\u001b[49m\u001b[43m,\u001b[49m\n\u001b[32m    894\u001b[39m \u001b[43m    \u001b[49m\u001b[43mclient_settings\u001b[49m\u001b[43m=\u001b[49m\u001b[43mclient_settings\u001b[49m\u001b[43m,\u001b[49m\n\u001b[32m    895\u001b[39m \u001b[43m    \u001b[49m\u001b[43mclient\u001b[49m\u001b[43m=\u001b[49m\u001b[43mclient\u001b[49m\u001b[43m,\u001b[49m\n\u001b[32m    896\u001b[39m \u001b[43m    \u001b[49m\u001b[43mcollection_metadata\u001b[49m\u001b[43m=\u001b[49m\u001b[43mcollection_metadata\u001b[49m\u001b[43m,\u001b[49m\n\u001b[32m    897\u001b[39m \u001b[43m    \u001b[49m\u001b[43m*\u001b[49m\u001b[43m*\u001b[49m\u001b[43mkwargs\u001b[49m\u001b[43m,\u001b[49m\n\u001b[32m    898\u001b[39m \u001b[43m\u001b[49m\u001b[43m)\u001b[49m\n",
      "\u001b[36mFile \u001b[39m\u001b[32m~/Downloads/github project 1/venv/lib/python3.12/site-packages/langchain_community/vectorstores/chroma.py:843\u001b[39m, in \u001b[36mChroma.from_texts\u001b[39m\u001b[34m(cls, texts, embedding, metadatas, ids, collection_name, persist_directory, client_settings, client, collection_metadata, **kwargs)\u001b[39m\n\u001b[32m    835\u001b[39m     \u001b[38;5;28;01mfrom\u001b[39;00m\u001b[38;5;250m \u001b[39m\u001b[34;01mchromadb\u001b[39;00m\u001b[34;01m.\u001b[39;00m\u001b[34;01mutils\u001b[39;00m\u001b[34;01m.\u001b[39;00m\u001b[34;01mbatch_utils\u001b[39;00m\u001b[38;5;250m \u001b[39m\u001b[38;5;28;01mimport\u001b[39;00m create_batches\n\u001b[32m    837\u001b[39m     \u001b[38;5;28;01mfor\u001b[39;00m batch \u001b[38;5;129;01min\u001b[39;00m create_batches(\n\u001b[32m    838\u001b[39m         api=chroma_collection._client,\n\u001b[32m    839\u001b[39m         ids=ids,\n\u001b[32m    840\u001b[39m         metadatas=metadatas,\n\u001b[32m    841\u001b[39m         documents=texts,\n\u001b[32m    842\u001b[39m     ):\n\u001b[32m--> \u001b[39m\u001b[32m843\u001b[39m         \u001b[43mchroma_collection\u001b[49m\u001b[43m.\u001b[49m\u001b[43madd_texts\u001b[49m\u001b[43m(\u001b[49m\n\u001b[32m    844\u001b[39m \u001b[43m            \u001b[49m\u001b[43mtexts\u001b[49m\u001b[43m=\u001b[49m\u001b[43mbatch\u001b[49m\u001b[43m[\u001b[49m\u001b[32;43m3\u001b[39;49m\u001b[43m]\u001b[49m\u001b[43m \u001b[49m\u001b[38;5;28;43;01mif\u001b[39;49;00m\u001b[43m \u001b[49m\u001b[43mbatch\u001b[49m\u001b[43m[\u001b[49m\u001b[32;43m3\u001b[39;49m\u001b[43m]\u001b[49m\u001b[43m \u001b[49m\u001b[38;5;28;43;01melse\u001b[39;49;00m\u001b[43m \u001b[49m\u001b[43m[\u001b[49m\u001b[43m]\u001b[49m\u001b[43m,\u001b[49m\n\u001b[32m    845\u001b[39m \u001b[43m            \u001b[49m\u001b[43mmetadatas\u001b[49m\u001b[43m=\u001b[49m\u001b[43mbatch\u001b[49m\u001b[43m[\u001b[49m\u001b[32;43m2\u001b[39;49m\u001b[43m]\u001b[49m\u001b[43m \u001b[49m\u001b[38;5;28;43;01mif\u001b[39;49;00m\u001b[43m \u001b[49m\u001b[43mbatch\u001b[49m\u001b[43m[\u001b[49m\u001b[32;43m2\u001b[39;49m\u001b[43m]\u001b[49m\u001b[43m \u001b[49m\u001b[38;5;28;43;01melse\u001b[39;49;00m\u001b[43m \u001b[49m\u001b[38;5;28;43;01mNone\u001b[39;49;00m\u001b[43m,\u001b[49m\n\u001b[32m    846\u001b[39m \u001b[43m            \u001b[49m\u001b[43mids\u001b[49m\u001b[43m=\u001b[49m\u001b[43mbatch\u001b[49m\u001b[43m[\u001b[49m\u001b[32;43m0\u001b[39;49m\u001b[43m]\u001b[49m\u001b[43m,\u001b[49m\n\u001b[32m    847\u001b[39m \u001b[43m        \u001b[49m\u001b[43m)\u001b[49m\n\u001b[32m    848\u001b[39m \u001b[38;5;28;01melse\u001b[39;00m:\n\u001b[32m    849\u001b[39m     chroma_collection.add_texts(texts=texts, metadatas=metadatas, ids=ids)\n",
      "\u001b[36mFile \u001b[39m\u001b[32m~/Downloads/github project 1/venv/lib/python3.12/site-packages/langchain_community/vectorstores/chroma.py:277\u001b[39m, in \u001b[36mChroma.add_texts\u001b[39m\u001b[34m(self, texts, metadatas, ids, **kwargs)\u001b[39m\n\u001b[32m    275\u001b[39m texts = \u001b[38;5;28mlist\u001b[39m(texts)\n\u001b[32m    276\u001b[39m \u001b[38;5;28;01mif\u001b[39;00m \u001b[38;5;28mself\u001b[39m._embedding_function \u001b[38;5;129;01mis\u001b[39;00m \u001b[38;5;129;01mnot\u001b[39;00m \u001b[38;5;28;01mNone\u001b[39;00m:\n\u001b[32m--> \u001b[39m\u001b[32m277\u001b[39m     embeddings = \u001b[38;5;28;43mself\u001b[39;49m\u001b[43m.\u001b[49m\u001b[43m_embedding_function\u001b[49m\u001b[43m.\u001b[49m\u001b[43membed_documents\u001b[49m\u001b[43m(\u001b[49m\u001b[43mtexts\u001b[49m\u001b[43m)\u001b[49m\n\u001b[32m    278\u001b[39m \u001b[38;5;28;01mif\u001b[39;00m metadatas:\n\u001b[32m    279\u001b[39m     \u001b[38;5;66;03m# fill metadatas with empty dicts if somebody\u001b[39;00m\n\u001b[32m    280\u001b[39m     \u001b[38;5;66;03m# did not specify metadata for all texts\u001b[39;00m\n\u001b[32m    281\u001b[39m     length_diff = \u001b[38;5;28mlen\u001b[39m(texts) - \u001b[38;5;28mlen\u001b[39m(metadatas)\n",
      "\u001b[36mFile \u001b[39m\u001b[32m~/Downloads/github project 1/venv/lib/python3.12/site-packages/langchain_openai/embeddings/base.py:590\u001b[39m, in \u001b[36mOpenAIEmbeddings.embed_documents\u001b[39m\u001b[34m(self, texts, chunk_size, **kwargs)\u001b[39m\n\u001b[32m    587\u001b[39m \u001b[38;5;66;03m# NOTE: to keep things simple, we assume the list may contain texts longer\u001b[39;00m\n\u001b[32m    588\u001b[39m \u001b[38;5;66;03m#       than the maximum context and use length-safe embedding function.\u001b[39;00m\n\u001b[32m    589\u001b[39m engine = cast(\u001b[38;5;28mstr\u001b[39m, \u001b[38;5;28mself\u001b[39m.deployment)\n\u001b[32m--> \u001b[39m\u001b[32m590\u001b[39m \u001b[38;5;28;01mreturn\u001b[39;00m \u001b[38;5;28;43mself\u001b[39;49m\u001b[43m.\u001b[49m\u001b[43m_get_len_safe_embeddings\u001b[49m\u001b[43m(\u001b[49m\n\u001b[32m    591\u001b[39m \u001b[43m    \u001b[49m\u001b[43mtexts\u001b[49m\u001b[43m,\u001b[49m\u001b[43m \u001b[49m\u001b[43mengine\u001b[49m\u001b[43m=\u001b[49m\u001b[43mengine\u001b[49m\u001b[43m,\u001b[49m\u001b[43m \u001b[49m\u001b[43mchunk_size\u001b[49m\u001b[43m=\u001b[49m\u001b[43mchunk_size\u001b[49m\u001b[43m,\u001b[49m\u001b[43m \u001b[49m\u001b[43m*\u001b[49m\u001b[43m*\u001b[49m\u001b[43mkwargs\u001b[49m\n\u001b[32m    592\u001b[39m \u001b[43m\u001b[49m\u001b[43m)\u001b[49m\n",
      "\u001b[36mFile \u001b[39m\u001b[32m~/Downloads/github project 1/venv/lib/python3.12/site-packages/langchain_openai/embeddings/base.py:478\u001b[39m, in \u001b[36mOpenAIEmbeddings._get_len_safe_embeddings\u001b[39m\u001b[34m(self, texts, engine, chunk_size, **kwargs)\u001b[39m\n\u001b[32m    476\u001b[39m batched_embeddings: \u001b[38;5;28mlist\u001b[39m[\u001b[38;5;28mlist\u001b[39m[\u001b[38;5;28mfloat\u001b[39m]] = []\n\u001b[32m    477\u001b[39m \u001b[38;5;28;01mfor\u001b[39;00m i \u001b[38;5;129;01min\u001b[39;00m _iter:\n\u001b[32m--> \u001b[39m\u001b[32m478\u001b[39m     response = \u001b[38;5;28;43mself\u001b[39;49m\u001b[43m.\u001b[49m\u001b[43mclient\u001b[49m\u001b[43m.\u001b[49m\u001b[43mcreate\u001b[49m\u001b[43m(\u001b[49m\n\u001b[32m    479\u001b[39m \u001b[43m        \u001b[49m\u001b[38;5;28;43minput\u001b[39;49m\u001b[43m=\u001b[49m\u001b[43mtokens\u001b[49m\u001b[43m[\u001b[49m\u001b[43mi\u001b[49m\u001b[43m \u001b[49m\u001b[43m:\u001b[49m\u001b[43m \u001b[49m\u001b[43mi\u001b[49m\u001b[43m \u001b[49m\u001b[43m+\u001b[49m\u001b[43m \u001b[49m\u001b[43m_chunk_size\u001b[49m\u001b[43m]\u001b[49m\u001b[43m,\u001b[49m\u001b[43m \u001b[49m\u001b[43m*\u001b[49m\u001b[43m*\u001b[49m\u001b[43mclient_kwargs\u001b[49m\n\u001b[32m    480\u001b[39m \u001b[43m    \u001b[49m\u001b[43m)\u001b[49m\n\u001b[32m    481\u001b[39m     \u001b[38;5;28;01mif\u001b[39;00m \u001b[38;5;129;01mnot\u001b[39;00m \u001b[38;5;28misinstance\u001b[39m(response, \u001b[38;5;28mdict\u001b[39m):\n\u001b[32m    482\u001b[39m         response = response.model_dump()\n",
      "\u001b[36mFile \u001b[39m\u001b[32m~/Downloads/github project 1/venv/lib/python3.12/site-packages/openai/resources/embeddings.py:129\u001b[39m, in \u001b[36mEmbeddings.create\u001b[39m\u001b[34m(self, input, model, dimensions, encoding_format, user, extra_headers, extra_query, extra_body, timeout)\u001b[39m\n\u001b[32m    123\u001b[39m             embedding.embedding = np.frombuffer(  \u001b[38;5;66;03m# type: ignore[no-untyped-call]\u001b[39;00m\n\u001b[32m    124\u001b[39m                 base64.b64decode(data), dtype=\u001b[33m\"\u001b[39m\u001b[33mfloat32\u001b[39m\u001b[33m\"\u001b[39m\n\u001b[32m    125\u001b[39m             ).tolist()\n\u001b[32m    127\u001b[39m     \u001b[38;5;28;01mreturn\u001b[39;00m obj\n\u001b[32m--> \u001b[39m\u001b[32m129\u001b[39m \u001b[38;5;28;01mreturn\u001b[39;00m \u001b[38;5;28;43mself\u001b[39;49m\u001b[43m.\u001b[49m\u001b[43m_post\u001b[49m\u001b[43m(\u001b[49m\n\u001b[32m    130\u001b[39m \u001b[43m    \u001b[49m\u001b[33;43m\"\u001b[39;49m\u001b[33;43m/embeddings\u001b[39;49m\u001b[33;43m\"\u001b[39;49m\u001b[43m,\u001b[49m\n\u001b[32m    131\u001b[39m \u001b[43m    \u001b[49m\u001b[43mbody\u001b[49m\u001b[43m=\u001b[49m\u001b[43mmaybe_transform\u001b[49m\u001b[43m(\u001b[49m\u001b[43mparams\u001b[49m\u001b[43m,\u001b[49m\u001b[43m \u001b[49m\u001b[43membedding_create_params\u001b[49m\u001b[43m.\u001b[49m\u001b[43mEmbeddingCreateParams\u001b[49m\u001b[43m)\u001b[49m\u001b[43m,\u001b[49m\n\u001b[32m    132\u001b[39m \u001b[43m    \u001b[49m\u001b[43moptions\u001b[49m\u001b[43m=\u001b[49m\u001b[43mmake_request_options\u001b[49m\u001b[43m(\u001b[49m\n\u001b[32m    133\u001b[39m \u001b[43m        \u001b[49m\u001b[43mextra_headers\u001b[49m\u001b[43m=\u001b[49m\u001b[43mextra_headers\u001b[49m\u001b[43m,\u001b[49m\n\u001b[32m    134\u001b[39m \u001b[43m        \u001b[49m\u001b[43mextra_query\u001b[49m\u001b[43m=\u001b[49m\u001b[43mextra_query\u001b[49m\u001b[43m,\u001b[49m\n\u001b[32m    135\u001b[39m \u001b[43m        \u001b[49m\u001b[43mextra_body\u001b[49m\u001b[43m=\u001b[49m\u001b[43mextra_body\u001b[49m\u001b[43m,\u001b[49m\n\u001b[32m    136\u001b[39m \u001b[43m        \u001b[49m\u001b[43mtimeout\u001b[49m\u001b[43m=\u001b[49m\u001b[43mtimeout\u001b[49m\u001b[43m,\u001b[49m\n\u001b[32m    137\u001b[39m \u001b[43m        \u001b[49m\u001b[43mpost_parser\u001b[49m\u001b[43m=\u001b[49m\u001b[43mparser\u001b[49m\u001b[43m,\u001b[49m\n\u001b[32m    138\u001b[39m \u001b[43m    \u001b[49m\u001b[43m)\u001b[49m\u001b[43m,\u001b[49m\n\u001b[32m    139\u001b[39m \u001b[43m    \u001b[49m\u001b[43mcast_to\u001b[49m\u001b[43m=\u001b[49m\u001b[43mCreateEmbeddingResponse\u001b[49m\u001b[43m,\u001b[49m\n\u001b[32m    140\u001b[39m \u001b[43m\u001b[49m\u001b[43m)\u001b[49m\n",
      "\u001b[36mFile \u001b[39m\u001b[32m~/Downloads/github project 1/venv/lib/python3.12/site-packages/openai/_base_client.py:1242\u001b[39m, in \u001b[36mSyncAPIClient.post\u001b[39m\u001b[34m(self, path, cast_to, body, options, files, stream, stream_cls)\u001b[39m\n\u001b[32m   1228\u001b[39m \u001b[38;5;28;01mdef\u001b[39;00m\u001b[38;5;250m \u001b[39m\u001b[34mpost\u001b[39m(\n\u001b[32m   1229\u001b[39m     \u001b[38;5;28mself\u001b[39m,\n\u001b[32m   1230\u001b[39m     path: \u001b[38;5;28mstr\u001b[39m,\n\u001b[32m   (...)\u001b[39m\u001b[32m   1237\u001b[39m     stream_cls: \u001b[38;5;28mtype\u001b[39m[_StreamT] | \u001b[38;5;28;01mNone\u001b[39;00m = \u001b[38;5;28;01mNone\u001b[39;00m,\n\u001b[32m   1238\u001b[39m ) -> ResponseT | _StreamT:\n\u001b[32m   1239\u001b[39m     opts = FinalRequestOptions.construct(\n\u001b[32m   1240\u001b[39m         method=\u001b[33m\"\u001b[39m\u001b[33mpost\u001b[39m\u001b[33m\"\u001b[39m, url=path, json_data=body, files=to_httpx_files(files), **options\n\u001b[32m   1241\u001b[39m     )\n\u001b[32m-> \u001b[39m\u001b[32m1242\u001b[39m     \u001b[38;5;28;01mreturn\u001b[39;00m cast(ResponseT, \u001b[38;5;28;43mself\u001b[39;49m\u001b[43m.\u001b[49m\u001b[43mrequest\u001b[49m\u001b[43m(\u001b[49m\u001b[43mcast_to\u001b[49m\u001b[43m,\u001b[49m\u001b[43m \u001b[49m\u001b[43mopts\u001b[49m\u001b[43m,\u001b[49m\u001b[43m \u001b[49m\u001b[43mstream\u001b[49m\u001b[43m=\u001b[49m\u001b[43mstream\u001b[49m\u001b[43m,\u001b[49m\u001b[43m \u001b[49m\u001b[43mstream_cls\u001b[49m\u001b[43m=\u001b[49m\u001b[43mstream_cls\u001b[49m\u001b[43m)\u001b[49m)\n",
      "\u001b[36mFile \u001b[39m\u001b[32m~/Downloads/github project 1/venv/lib/python3.12/site-packages/openai/_base_client.py:1037\u001b[39m, in \u001b[36mSyncAPIClient.request\u001b[39m\u001b[34m(self, cast_to, options, stream, stream_cls)\u001b[39m\n\u001b[32m   1034\u001b[39m             err.response.read()\n\u001b[32m   1036\u001b[39m         log.debug(\u001b[33m\"\u001b[39m\u001b[33mRe-raising status error\u001b[39m\u001b[33m\"\u001b[39m)\n\u001b[32m-> \u001b[39m\u001b[32m1037\u001b[39m         \u001b[38;5;28;01mraise\u001b[39;00m \u001b[38;5;28mself\u001b[39m._make_status_error_from_response(err.response) \u001b[38;5;28;01mfrom\u001b[39;00m\u001b[38;5;250m \u001b[39m\u001b[38;5;28;01mNone\u001b[39;00m\n\u001b[32m   1039\u001b[39m     \u001b[38;5;28;01mbreak\u001b[39;00m\n\u001b[32m   1041\u001b[39m \u001b[38;5;28;01massert\u001b[39;00m response \u001b[38;5;129;01mis\u001b[39;00m \u001b[38;5;129;01mnot\u001b[39;00m \u001b[38;5;28;01mNone\u001b[39;00m, \u001b[33m\"\u001b[39m\u001b[33mcould not resolve response (should never happen)\u001b[39m\u001b[33m\"\u001b[39m\n",
      "\u001b[31mRateLimitError\u001b[39m: Error code: 429 - {'error': {'message': 'You exceeded your current quota, please check your plan and billing details. For more information on this error, read the docs: https://platform.openai.com/docs/guides/error-codes/api-errors.', 'type': 'insufficient_quota', 'param': None, 'code': 'insufficient_quota'}}"
     ]
    }
   ],
   "source": [
    "# Vector embeddings wrt OpenAI\n",
    "from langchain_openai import OpenAIEmbeddings\n",
    "from langchain_community.vectorstores import Chroma\n",
    "db = Chroma.from_documents(documents,OpenAIEmbeddings())\n"
   ]
  },
  {
   "cell_type": "code",
   "execution_count": 18,
   "id": "9e4c9996",
   "metadata": {},
   "outputs": [],
   "source": [
    "from langchain_groq import ChatGroq\n",
    "from dotenv import load_dotenv\n",
    "import os\n",
    "\n",
    "load_dotenv()\n",
    "groq_api_key = os.getenv(\"GROQ_API_KEY\")"
   ]
  },
  {
   "cell_type": "markdown",
   "id": "7ad3191d",
   "metadata": {},
   "source": []
  },
  {
   "cell_type": "markdown",
   "id": "08fd02ac",
   "metadata": {},
   "source": [
    "llm = ChatGroq(\n",
    "    groq_api_key=groq_api_key,\n",
    "    model_name=\"llama3-70b-8192\"  \n",
    ")\n"
   ]
  },
  {
   "cell_type": "code",
   "execution_count": 19,
   "id": "bd6080a8",
   "metadata": {},
   "outputs": [
    {
     "name": "stderr",
     "output_type": "stream",
     "text": [
      "/var/folders/jm/560w9m8d6xngldzyq4s7_v6w0000gn/T/ipykernel_2235/3816544679.py:3: LangChainDeprecationWarning: The class `HuggingFaceEmbeddings` was deprecated in LangChain 0.2.2 and will be removed in 1.0. An updated version of the class exists in the :class:`~langchain-huggingface package and should be used instead. To use it run `pip install -U :class:`~langchain-huggingface` and import as `from :class:`~langchain_huggingface import HuggingFaceEmbeddings``.\n",
      "  embedding_model = HuggingFaceEmbeddings(model_name=\"sentence-transformers/all-MiniLM-L6-v2\")\n",
      "/Users/aditishelke/Downloads/github project 1/venv/lib/python3.12/site-packages/tqdm/auto.py:21: TqdmWarning: IProgress not found. Please update jupyter and ipywidgets. See https://ipywidgets.readthedocs.io/en/stable/user_install.html\n",
      "  from .autonotebook import tqdm as notebook_tqdm\n"
     ]
    }
   ],
   "source": [
    "from langchain_community.embeddings import HuggingFaceEmbeddings\n",
    "from langchain_community.vectorstores import Chroma\n",
    "embedding_model = HuggingFaceEmbeddings(model_name=\"sentence-transformers/all-MiniLM-L6-v2\")\n",
    "\n",
    "db = Chroma.from_documents(documents, embedding_model)"
   ]
  },
  {
   "cell_type": "code",
   "execution_count": 20,
   "id": "76e0d014",
   "metadata": {},
   "outputs": [
    {
     "name": "stderr",
     "output_type": "stream",
     "text": [
      "/var/folders/jm/560w9m8d6xngldzyq4s7_v6w0000gn/T/ipykernel_2235/1473561502.py:40: LangChainDeprecationWarning: The method `Chain.run` was deprecated in langchain 0.1.0 and will be removed in 1.0. Use :meth:`~invoke` instead.\n",
      "  answer = qa.run(query)\n"
     ]
    },
    {
     "name": "stdout",
     "output_type": "stream",
     "text": [
      "\n",
      "🤖 Answer: Here's a sample cover letter based on the provided context:\n",
      "\n",
      "Dear [Hiring Manager's Name],\n",
      "\n",
      "I am excited to apply for the [Position] role at [Company Name]. As a detail-oriented and analytical individual with a strong passion for data science, I am confident that my skills and experience make me an ideal fit for your team.\n",
      "\n",
      "Currently pursuing my Master's in Data Science at Stevens Institute of Technology, I have developed a solid foundation in probability, machine learning, data mining, and data visualization. My undergraduate degree in Bachelor of Technology from D.Y. Patil College of Engineering & Technology has provided me with a strong understanding of data principles. Additionally, I have augmented my skills with certifications in AWS Academy Cloud Foundations and Cloud Architecting, as well as Coursera's Python for Data Science and AI.\n",
      "\n",
      "In my current role as a Data Analyst at The Compass Group USA, I have successfully developed forecasting dashboards using Power BI and Webtrition, resulting in a 20% reduction in food waste across 200+ SKUs. I have also automated real-time updates on Grubhub's backend by syncing inventory and ingredient metadata, ensuring data accuracy and efficiency.\n",
      "\n",
      "My experience in implementing and evaluating CNN models (VGG, ResNet, and AlexNet) for image classification has given me a unique understanding of the power of machine learning in driving business results. I am excited to bring my skills and experience to a new challenge and contribute to the success of [Company Name].\n",
      "\n",
      "I am particularly drawn to [Company Name] because of its [reputation, mission, or values that resonate with you]. I am impressed by the company's commitment to [aspect of company's mission or values] and believe that my skills and experience align with this goal.\n",
      "\n",
      "Thank you for considering my application. I would welcome the opportunity to discuss my qualifications further and explore how I can contribute to the success of [Company Name].\n",
      "\n",
      "Sincerely,\n",
      "\n",
      "Aditi Shelke\n",
      "\n",
      "\n",
      "🤖 Answer: I'm ready to answer your question. Go ahead and ask!\n",
      "\n",
      "\n",
      "🤖 Answer: I'm ready to answer your question. Go ahead and ask away!\n",
      "\n",
      "\n",
      "🤖 Answer: I'm ready to answer your question. Go ahead and ask away!\n",
      "\n",
      "\n",
      "🤖 Answer: I'm ready to answer your question. Go ahead and ask away!\n",
      "\n"
     ]
    }
   ],
   "source": [
    "from dotenv import load_dotenv\n",
    "from langchain_groq import ChatGroq\n",
    "from langchain_community.document_loaders import TextLoader\n",
    "from langchain_community.embeddings import HuggingFaceEmbeddings\n",
    "from langchain_community.vectorstores import Chroma\n",
    "from langchain_text_splitters import RecursiveCharacterTextSplitter\n",
    "from langchain.chains import RetrievalQA\n",
    "import os\n",
    "\n",
    "# Load .env for GROQ_API_KEY\n",
    "load_dotenv()\n",
    "groq_api_key = os.getenv(\"GROQ_API_KEY\")\n",
    "\n",
    "\n",
    "# Step 2: Split into chunks\n",
    "splitter = RecursiveCharacterTextSplitter(chunk_size=500, chunk_overlap=50)\n",
    "chunks = splitter.split_documents(resume)\n",
    "\n",
    "# Step 3: Embed using HuggingFace\n",
    "embedding_model = HuggingFaceEmbeddings(model_name=\"sentence-transformers/all-MiniLM-L6-v2\")\n",
    "\n",
    "# Step 4: Store in Chroma\n",
    "db = Chroma.from_documents(chunks, embedding_model, persist_directory=\"chroma_resume_db\")\n",
    "retriever = db.as_retriever()\n",
    "\n",
    "# Step 5: LLM via Groq\n",
    "llm = ChatGroq(\n",
    "    groq_api_key=groq_api_key,\n",
    "    model_name=\"llama3-70b-8192\"\n",
    ")\n",
    "\n",
    "# Step 6: Build RAG pipeline\n",
    "qa = RetrievalQA.from_chain_type(llm=llm, retriever=retriever)\n",
    "\n",
    "# Step 7: Ask question\n",
    "while True:\n",
    "    query = input(\"Ask me about my resume (or type 'exit'): \")\n",
    "    if query.lower() == \"exit\":\n",
    "        break\n",
    "    answer = qa.run(query)\n",
    "    print(f\"\\n🤖 Answer: {answer}\\n\")\n"
   ]
  },
  {
   "cell_type": "markdown",
   "id": "5ba743b6",
   "metadata": {},
   "source": []
  },
  {
   "cell_type": "code",
   "execution_count": null,
   "id": "2f1aab15",
   "metadata": {},
   "outputs": [
    {
     "ename": "SyntaxError",
     "evalue": "invalid syntax (1109794240.py, line 8)",
     "output_type": "error",
     "traceback": [
      "  \u001b[36mCell\u001b[39m\u001b[36m \u001b[39m\u001b[32mIn[5]\u001b[39m\u001b[32m, line 8\u001b[39m\n\u001b[31m    \u001b[39m\u001b[31mpip3 install arxiv\u001b[39m\n         ^\n\u001b[31mSyntaxError\u001b[39m\u001b[31m:\u001b[39m invalid syntax\n"
     ]
    }
   ],
   "source": [
    "#see hpow can you improve this pipeline and make it more efficient and faster\n",
    "# --- IGNORE ---\n",
    "# This is a simple RAG pipeline that can be extended with more sophisticated techniques like caching,\n",
    "# more advanced vector stores, or even integrating with other data sources.\n",
    "# --- IGNORE ---\n",
    "# Resume madhe aan using ollama embeddingss and vector store \n",
    "\n"
   ]
  },
  {
   "cell_type": "code",
   "execution_count": null,
   "id": "4e8b50ea",
   "metadata": {},
   "outputs": [],
   "source": [
    "#agents \n",
    "# sequence of actions to take a sequence of action \n",
    "# langchain already has soem generic prompts created by people \n"
   ]
  },
  {
   "cell_type": "code",
   "execution_count": null,
   "id": "4fcc38e5",
   "metadata": {},
   "outputs": [],
   "source": []
  }
 ],
 "metadata": {
  "kernelspec": {
   "display_name": "venv (3.12.5)",
   "language": "python",
   "name": "python3"
  },
  "language_info": {
   "codemirror_mode": {
    "name": "ipython",
    "version": 3
   },
   "file_extension": ".py",
   "mimetype": "text/x-python",
   "name": "python",
   "nbconvert_exporter": "python",
   "pygments_lexer": "ipython3",
   "version": "3.12.5"
  }
 },
 "nbformat": 4,
 "nbformat_minor": 5
}
